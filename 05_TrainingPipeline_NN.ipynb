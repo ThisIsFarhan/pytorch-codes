{
  "nbformat": 4,
  "nbformat_minor": 0,
  "metadata": {
    "colab": {
      "provenance": [],
      "authorship_tag": "ABX9TyPugLgFSeBbvd9UdJhB1C2C",
      "include_colab_link": true
    },
    "kernelspec": {
      "name": "python3",
      "display_name": "Python 3"
    },
    "language_info": {
      "name": "python"
    }
  },
  "cells": [
    {
      "cell_type": "markdown",
      "metadata": {
        "id": "view-in-github",
        "colab_type": "text"
      },
      "source": [
        "<a href=\"https://colab.research.google.com/github/ThisIsFarhan/pytorch-codes/blob/main/05_TrainingPipeline_NN.ipynb\" target=\"_parent\"><img src=\"https://colab.research.google.com/assets/colab-badge.svg\" alt=\"Open In Colab\"/></a>"
      ]
    },
    {
      "cell_type": "code",
      "execution_count": 1,
      "metadata": {
        "id": "vdb-JZ47Qmyx"
      },
      "outputs": [],
      "source": [
        "import numpy as np\n",
        "import pandas as pd\n",
        "import torch\n",
        "from sklearn.model_selection import train_test_split\n",
        "from sklearn.preprocessing import StandardScaler\n",
        "from sklearn.preprocessing import LabelEncoder"
      ]
    },
    {
      "cell_type": "code",
      "source": [
        "df = pd.read_csv(\"https://raw.githubusercontent.com/uiuc-cse/data-fa14/gh-pages/data/iris.csv\")"
      ],
      "metadata": {
        "id": "FhMN-_JPRysb"
      },
      "execution_count": 2,
      "outputs": []
    },
    {
      "cell_type": "code",
      "source": [
        "encoder = LabelEncoder()\n",
        "encoder.fit(df[\"species\"])\n",
        "df[\"encoded_species\"] = encoder.transform(df[\"species\"])"
      ],
      "metadata": {
        "id": "lp85EknOR2eK"
      },
      "execution_count": 3,
      "outputs": []
    },
    {
      "cell_type": "code",
      "source": [
        "df = df[df[\"encoded_species\"] != 2]"
      ],
      "metadata": {
        "id": "yiROhXbCR4i9"
      },
      "execution_count": 4,
      "outputs": []
    },
    {
      "cell_type": "code",
      "source": [
        "df[\"encoded_species\"].value_counts()"
      ],
      "metadata": {
        "colab": {
          "base_uri": "https://localhost:8080/",
          "height": 178
        },
        "id": "M1IW2BggR8t6",
        "outputId": "560a3222-ccbf-4f8a-f0a2-c15e29e7bb60"
      },
      "execution_count": 6,
      "outputs": [
        {
          "output_type": "execute_result",
          "data": {
            "text/plain": [
              "encoded_species\n",
              "0    50\n",
              "1    50\n",
              "Name: count, dtype: int64"
            ],
            "text/html": [
              "<div>\n",
              "<style scoped>\n",
              "    .dataframe tbody tr th:only-of-type {\n",
              "        vertical-align: middle;\n",
              "    }\n",
              "\n",
              "    .dataframe tbody tr th {\n",
              "        vertical-align: top;\n",
              "    }\n",
              "\n",
              "    .dataframe thead th {\n",
              "        text-align: right;\n",
              "    }\n",
              "</style>\n",
              "<table border=\"1\" class=\"dataframe\">\n",
              "  <thead>\n",
              "    <tr style=\"text-align: right;\">\n",
              "      <th></th>\n",
              "      <th>count</th>\n",
              "    </tr>\n",
              "    <tr>\n",
              "      <th>encoded_species</th>\n",
              "      <th></th>\n",
              "    </tr>\n",
              "  </thead>\n",
              "  <tbody>\n",
              "    <tr>\n",
              "      <th>0</th>\n",
              "      <td>50</td>\n",
              "    </tr>\n",
              "    <tr>\n",
              "      <th>1</th>\n",
              "      <td>50</td>\n",
              "    </tr>\n",
              "  </tbody>\n",
              "</table>\n",
              "</div><br><label><b>dtype:</b> int64</label>"
            ]
          },
          "metadata": {},
          "execution_count": 6
        }
      ]
    },
    {
      "cell_type": "code",
      "source": [
        "df"
      ],
      "metadata": {
        "colab": {
          "base_uri": "https://localhost:8080/",
          "height": 423
        },
        "id": "MYRKFofISARA",
        "outputId": "5d5a549a-596a-4c9a-d3ec-ac46d508859d"
      },
      "execution_count": 7,
      "outputs": [
        {
          "output_type": "execute_result",
          "data": {
            "text/plain": [
              "    sepal_length  sepal_width  petal_length  petal_width     species  \\\n",
              "0            5.1          3.5           1.4          0.2      setosa   \n",
              "1            4.9          3.0           1.4          0.2      setosa   \n",
              "2            4.7          3.2           1.3          0.2      setosa   \n",
              "3            4.6          3.1           1.5          0.2      setosa   \n",
              "4            5.0          3.6           1.4          0.2      setosa   \n",
              "..           ...          ...           ...          ...         ...   \n",
              "95           5.7          3.0           4.2          1.2  versicolor   \n",
              "96           5.7          2.9           4.2          1.3  versicolor   \n",
              "97           6.2          2.9           4.3          1.3  versicolor   \n",
              "98           5.1          2.5           3.0          1.1  versicolor   \n",
              "99           5.7          2.8           4.1          1.3  versicolor   \n",
              "\n",
              "    encoded_species  \n",
              "0                 0  \n",
              "1                 0  \n",
              "2                 0  \n",
              "3                 0  \n",
              "4                 0  \n",
              "..              ...  \n",
              "95                1  \n",
              "96                1  \n",
              "97                1  \n",
              "98                1  \n",
              "99                1  \n",
              "\n",
              "[100 rows x 6 columns]"
            ],
            "text/html": [
              "\n",
              "  <div id=\"df-0b69887c-3472-45b4-bc43-ba05d0bbe4fc\" class=\"colab-df-container\">\n",
              "    <div>\n",
              "<style scoped>\n",
              "    .dataframe tbody tr th:only-of-type {\n",
              "        vertical-align: middle;\n",
              "    }\n",
              "\n",
              "    .dataframe tbody tr th {\n",
              "        vertical-align: top;\n",
              "    }\n",
              "\n",
              "    .dataframe thead th {\n",
              "        text-align: right;\n",
              "    }\n",
              "</style>\n",
              "<table border=\"1\" class=\"dataframe\">\n",
              "  <thead>\n",
              "    <tr style=\"text-align: right;\">\n",
              "      <th></th>\n",
              "      <th>sepal_length</th>\n",
              "      <th>sepal_width</th>\n",
              "      <th>petal_length</th>\n",
              "      <th>petal_width</th>\n",
              "      <th>species</th>\n",
              "      <th>encoded_species</th>\n",
              "    </tr>\n",
              "  </thead>\n",
              "  <tbody>\n",
              "    <tr>\n",
              "      <th>0</th>\n",
              "      <td>5.1</td>\n",
              "      <td>3.5</td>\n",
              "      <td>1.4</td>\n",
              "      <td>0.2</td>\n",
              "      <td>setosa</td>\n",
              "      <td>0</td>\n",
              "    </tr>\n",
              "    <tr>\n",
              "      <th>1</th>\n",
              "      <td>4.9</td>\n",
              "      <td>3.0</td>\n",
              "      <td>1.4</td>\n",
              "      <td>0.2</td>\n",
              "      <td>setosa</td>\n",
              "      <td>0</td>\n",
              "    </tr>\n",
              "    <tr>\n",
              "      <th>2</th>\n",
              "      <td>4.7</td>\n",
              "      <td>3.2</td>\n",
              "      <td>1.3</td>\n",
              "      <td>0.2</td>\n",
              "      <td>setosa</td>\n",
              "      <td>0</td>\n",
              "    </tr>\n",
              "    <tr>\n",
              "      <th>3</th>\n",
              "      <td>4.6</td>\n",
              "      <td>3.1</td>\n",
              "      <td>1.5</td>\n",
              "      <td>0.2</td>\n",
              "      <td>setosa</td>\n",
              "      <td>0</td>\n",
              "    </tr>\n",
              "    <tr>\n",
              "      <th>4</th>\n",
              "      <td>5.0</td>\n",
              "      <td>3.6</td>\n",
              "      <td>1.4</td>\n",
              "      <td>0.2</td>\n",
              "      <td>setosa</td>\n",
              "      <td>0</td>\n",
              "    </tr>\n",
              "    <tr>\n",
              "      <th>...</th>\n",
              "      <td>...</td>\n",
              "      <td>...</td>\n",
              "      <td>...</td>\n",
              "      <td>...</td>\n",
              "      <td>...</td>\n",
              "      <td>...</td>\n",
              "    </tr>\n",
              "    <tr>\n",
              "      <th>95</th>\n",
              "      <td>5.7</td>\n",
              "      <td>3.0</td>\n",
              "      <td>4.2</td>\n",
              "      <td>1.2</td>\n",
              "      <td>versicolor</td>\n",
              "      <td>1</td>\n",
              "    </tr>\n",
              "    <tr>\n",
              "      <th>96</th>\n",
              "      <td>5.7</td>\n",
              "      <td>2.9</td>\n",
              "      <td>4.2</td>\n",
              "      <td>1.3</td>\n",
              "      <td>versicolor</td>\n",
              "      <td>1</td>\n",
              "    </tr>\n",
              "    <tr>\n",
              "      <th>97</th>\n",
              "      <td>6.2</td>\n",
              "      <td>2.9</td>\n",
              "      <td>4.3</td>\n",
              "      <td>1.3</td>\n",
              "      <td>versicolor</td>\n",
              "      <td>1</td>\n",
              "    </tr>\n",
              "    <tr>\n",
              "      <th>98</th>\n",
              "      <td>5.1</td>\n",
              "      <td>2.5</td>\n",
              "      <td>3.0</td>\n",
              "      <td>1.1</td>\n",
              "      <td>versicolor</td>\n",
              "      <td>1</td>\n",
              "    </tr>\n",
              "    <tr>\n",
              "      <th>99</th>\n",
              "      <td>5.7</td>\n",
              "      <td>2.8</td>\n",
              "      <td>4.1</td>\n",
              "      <td>1.3</td>\n",
              "      <td>versicolor</td>\n",
              "      <td>1</td>\n",
              "    </tr>\n",
              "  </tbody>\n",
              "</table>\n",
              "<p>100 rows × 6 columns</p>\n",
              "</div>\n",
              "    <div class=\"colab-df-buttons\">\n",
              "\n",
              "  <div class=\"colab-df-container\">\n",
              "    <button class=\"colab-df-convert\" onclick=\"convertToInteractive('df-0b69887c-3472-45b4-bc43-ba05d0bbe4fc')\"\n",
              "            title=\"Convert this dataframe to an interactive table.\"\n",
              "            style=\"display:none;\">\n",
              "\n",
              "  <svg xmlns=\"http://www.w3.org/2000/svg\" height=\"24px\" viewBox=\"0 -960 960 960\">\n",
              "    <path d=\"M120-120v-720h720v720H120Zm60-500h600v-160H180v160Zm220 220h160v-160H400v160Zm0 220h160v-160H400v160ZM180-400h160v-160H180v160Zm440 0h160v-160H620v160ZM180-180h160v-160H180v160Zm440 0h160v-160H620v160Z\"/>\n",
              "  </svg>\n",
              "    </button>\n",
              "\n",
              "  <style>\n",
              "    .colab-df-container {\n",
              "      display:flex;\n",
              "      gap: 12px;\n",
              "    }\n",
              "\n",
              "    .colab-df-convert {\n",
              "      background-color: #E8F0FE;\n",
              "      border: none;\n",
              "      border-radius: 50%;\n",
              "      cursor: pointer;\n",
              "      display: none;\n",
              "      fill: #1967D2;\n",
              "      height: 32px;\n",
              "      padding: 0 0 0 0;\n",
              "      width: 32px;\n",
              "    }\n",
              "\n",
              "    .colab-df-convert:hover {\n",
              "      background-color: #E2EBFA;\n",
              "      box-shadow: 0px 1px 2px rgba(60, 64, 67, 0.3), 0px 1px 3px 1px rgba(60, 64, 67, 0.15);\n",
              "      fill: #174EA6;\n",
              "    }\n",
              "\n",
              "    .colab-df-buttons div {\n",
              "      margin-bottom: 4px;\n",
              "    }\n",
              "\n",
              "    [theme=dark] .colab-df-convert {\n",
              "      background-color: #3B4455;\n",
              "      fill: #D2E3FC;\n",
              "    }\n",
              "\n",
              "    [theme=dark] .colab-df-convert:hover {\n",
              "      background-color: #434B5C;\n",
              "      box-shadow: 0px 1px 3px 1px rgba(0, 0, 0, 0.15);\n",
              "      filter: drop-shadow(0px 1px 2px rgba(0, 0, 0, 0.3));\n",
              "      fill: #FFFFFF;\n",
              "    }\n",
              "  </style>\n",
              "\n",
              "    <script>\n",
              "      const buttonEl =\n",
              "        document.querySelector('#df-0b69887c-3472-45b4-bc43-ba05d0bbe4fc button.colab-df-convert');\n",
              "      buttonEl.style.display =\n",
              "        google.colab.kernel.accessAllowed ? 'block' : 'none';\n",
              "\n",
              "      async function convertToInteractive(key) {\n",
              "        const element = document.querySelector('#df-0b69887c-3472-45b4-bc43-ba05d0bbe4fc');\n",
              "        const dataTable =\n",
              "          await google.colab.kernel.invokeFunction('convertToInteractive',\n",
              "                                                    [key], {});\n",
              "        if (!dataTable) return;\n",
              "\n",
              "        const docLinkHtml = 'Like what you see? Visit the ' +\n",
              "          '<a target=\"_blank\" href=https://colab.research.google.com/notebooks/data_table.ipynb>data table notebook</a>'\n",
              "          + ' to learn more about interactive tables.';\n",
              "        element.innerHTML = '';\n",
              "        dataTable['output_type'] = 'display_data';\n",
              "        await google.colab.output.renderOutput(dataTable, element);\n",
              "        const docLink = document.createElement('div');\n",
              "        docLink.innerHTML = docLinkHtml;\n",
              "        element.appendChild(docLink);\n",
              "      }\n",
              "    </script>\n",
              "  </div>\n",
              "\n",
              "\n",
              "<div id=\"df-b066d188-6f75-4407-9a6b-46310b7d2454\">\n",
              "  <button class=\"colab-df-quickchart\" onclick=\"quickchart('df-b066d188-6f75-4407-9a6b-46310b7d2454')\"\n",
              "            title=\"Suggest charts\"\n",
              "            style=\"display:none;\">\n",
              "\n",
              "<svg xmlns=\"http://www.w3.org/2000/svg\" height=\"24px\"viewBox=\"0 0 24 24\"\n",
              "     width=\"24px\">\n",
              "    <g>\n",
              "        <path d=\"M19 3H5c-1.1 0-2 .9-2 2v14c0 1.1.9 2 2 2h14c1.1 0 2-.9 2-2V5c0-1.1-.9-2-2-2zM9 17H7v-7h2v7zm4 0h-2V7h2v10zm4 0h-2v-4h2v4z\"/>\n",
              "    </g>\n",
              "</svg>\n",
              "  </button>\n",
              "\n",
              "<style>\n",
              "  .colab-df-quickchart {\n",
              "      --bg-color: #E8F0FE;\n",
              "      --fill-color: #1967D2;\n",
              "      --hover-bg-color: #E2EBFA;\n",
              "      --hover-fill-color: #174EA6;\n",
              "      --disabled-fill-color: #AAA;\n",
              "      --disabled-bg-color: #DDD;\n",
              "  }\n",
              "\n",
              "  [theme=dark] .colab-df-quickchart {\n",
              "      --bg-color: #3B4455;\n",
              "      --fill-color: #D2E3FC;\n",
              "      --hover-bg-color: #434B5C;\n",
              "      --hover-fill-color: #FFFFFF;\n",
              "      --disabled-bg-color: #3B4455;\n",
              "      --disabled-fill-color: #666;\n",
              "  }\n",
              "\n",
              "  .colab-df-quickchart {\n",
              "    background-color: var(--bg-color);\n",
              "    border: none;\n",
              "    border-radius: 50%;\n",
              "    cursor: pointer;\n",
              "    display: none;\n",
              "    fill: var(--fill-color);\n",
              "    height: 32px;\n",
              "    padding: 0;\n",
              "    width: 32px;\n",
              "  }\n",
              "\n",
              "  .colab-df-quickchart:hover {\n",
              "    background-color: var(--hover-bg-color);\n",
              "    box-shadow: 0 1px 2px rgba(60, 64, 67, 0.3), 0 1px 3px 1px rgba(60, 64, 67, 0.15);\n",
              "    fill: var(--button-hover-fill-color);\n",
              "  }\n",
              "\n",
              "  .colab-df-quickchart-complete:disabled,\n",
              "  .colab-df-quickchart-complete:disabled:hover {\n",
              "    background-color: var(--disabled-bg-color);\n",
              "    fill: var(--disabled-fill-color);\n",
              "    box-shadow: none;\n",
              "  }\n",
              "\n",
              "  .colab-df-spinner {\n",
              "    border: 2px solid var(--fill-color);\n",
              "    border-color: transparent;\n",
              "    border-bottom-color: var(--fill-color);\n",
              "    animation:\n",
              "      spin 1s steps(1) infinite;\n",
              "  }\n",
              "\n",
              "  @keyframes spin {\n",
              "    0% {\n",
              "      border-color: transparent;\n",
              "      border-bottom-color: var(--fill-color);\n",
              "      border-left-color: var(--fill-color);\n",
              "    }\n",
              "    20% {\n",
              "      border-color: transparent;\n",
              "      border-left-color: var(--fill-color);\n",
              "      border-top-color: var(--fill-color);\n",
              "    }\n",
              "    30% {\n",
              "      border-color: transparent;\n",
              "      border-left-color: var(--fill-color);\n",
              "      border-top-color: var(--fill-color);\n",
              "      border-right-color: var(--fill-color);\n",
              "    }\n",
              "    40% {\n",
              "      border-color: transparent;\n",
              "      border-right-color: var(--fill-color);\n",
              "      border-top-color: var(--fill-color);\n",
              "    }\n",
              "    60% {\n",
              "      border-color: transparent;\n",
              "      border-right-color: var(--fill-color);\n",
              "    }\n",
              "    80% {\n",
              "      border-color: transparent;\n",
              "      border-right-color: var(--fill-color);\n",
              "      border-bottom-color: var(--fill-color);\n",
              "    }\n",
              "    90% {\n",
              "      border-color: transparent;\n",
              "      border-bottom-color: var(--fill-color);\n",
              "    }\n",
              "  }\n",
              "</style>\n",
              "\n",
              "  <script>\n",
              "    async function quickchart(key) {\n",
              "      const quickchartButtonEl =\n",
              "        document.querySelector('#' + key + ' button');\n",
              "      quickchartButtonEl.disabled = true;  // To prevent multiple clicks.\n",
              "      quickchartButtonEl.classList.add('colab-df-spinner');\n",
              "      try {\n",
              "        const charts = await google.colab.kernel.invokeFunction(\n",
              "            'suggestCharts', [key], {});\n",
              "      } catch (error) {\n",
              "        console.error('Error during call to suggestCharts:', error);\n",
              "      }\n",
              "      quickchartButtonEl.classList.remove('colab-df-spinner');\n",
              "      quickchartButtonEl.classList.add('colab-df-quickchart-complete');\n",
              "    }\n",
              "    (() => {\n",
              "      let quickchartButtonEl =\n",
              "        document.querySelector('#df-b066d188-6f75-4407-9a6b-46310b7d2454 button');\n",
              "      quickchartButtonEl.style.display =\n",
              "        google.colab.kernel.accessAllowed ? 'block' : 'none';\n",
              "    })();\n",
              "  </script>\n",
              "</div>\n",
              "\n",
              "  <div id=\"id_1cd34063-8eb6-4359-9916-2f946b1e1339\">\n",
              "    <style>\n",
              "      .colab-df-generate {\n",
              "        background-color: #E8F0FE;\n",
              "        border: none;\n",
              "        border-radius: 50%;\n",
              "        cursor: pointer;\n",
              "        display: none;\n",
              "        fill: #1967D2;\n",
              "        height: 32px;\n",
              "        padding: 0 0 0 0;\n",
              "        width: 32px;\n",
              "      }\n",
              "\n",
              "      .colab-df-generate:hover {\n",
              "        background-color: #E2EBFA;\n",
              "        box-shadow: 0px 1px 2px rgba(60, 64, 67, 0.3), 0px 1px 3px 1px rgba(60, 64, 67, 0.15);\n",
              "        fill: #174EA6;\n",
              "      }\n",
              "\n",
              "      [theme=dark] .colab-df-generate {\n",
              "        background-color: #3B4455;\n",
              "        fill: #D2E3FC;\n",
              "      }\n",
              "\n",
              "      [theme=dark] .colab-df-generate:hover {\n",
              "        background-color: #434B5C;\n",
              "        box-shadow: 0px 1px 3px 1px rgba(0, 0, 0, 0.15);\n",
              "        filter: drop-shadow(0px 1px 2px rgba(0, 0, 0, 0.3));\n",
              "        fill: #FFFFFF;\n",
              "      }\n",
              "    </style>\n",
              "    <button class=\"colab-df-generate\" onclick=\"generateWithVariable('df')\"\n",
              "            title=\"Generate code using this dataframe.\"\n",
              "            style=\"display:none;\">\n",
              "\n",
              "  <svg xmlns=\"http://www.w3.org/2000/svg\" height=\"24px\"viewBox=\"0 0 24 24\"\n",
              "       width=\"24px\">\n",
              "    <path d=\"M7,19H8.4L18.45,9,17,7.55,7,17.6ZM5,21V16.75L18.45,3.32a2,2,0,0,1,2.83,0l1.4,1.43a1.91,1.91,0,0,1,.58,1.4,1.91,1.91,0,0,1-.58,1.4L9.25,21ZM18.45,9,17,7.55Zm-12,3A5.31,5.31,0,0,0,4.9,8.1,5.31,5.31,0,0,0,1,6.5,5.31,5.31,0,0,0,4.9,4.9,5.31,5.31,0,0,0,6.5,1,5.31,5.31,0,0,0,8.1,4.9,5.31,5.31,0,0,0,12,6.5,5.46,5.46,0,0,0,6.5,12Z\"/>\n",
              "  </svg>\n",
              "    </button>\n",
              "    <script>\n",
              "      (() => {\n",
              "      const buttonEl =\n",
              "        document.querySelector('#id_1cd34063-8eb6-4359-9916-2f946b1e1339 button.colab-df-generate');\n",
              "      buttonEl.style.display =\n",
              "        google.colab.kernel.accessAllowed ? 'block' : 'none';\n",
              "\n",
              "      buttonEl.onclick = () => {\n",
              "        google.colab.notebook.generateWithVariable('df');\n",
              "      }\n",
              "      })();\n",
              "    </script>\n",
              "  </div>\n",
              "\n",
              "    </div>\n",
              "  </div>\n"
            ],
            "application/vnd.google.colaboratory.intrinsic+json": {
              "type": "dataframe",
              "variable_name": "df",
              "summary": "{\n  \"name\": \"df\",\n  \"rows\": 100,\n  \"fields\": [\n    {\n      \"column\": \"sepal_length\",\n      \"properties\": {\n        \"dtype\": \"number\",\n        \"std\": 0.6416983463254117,\n        \"min\": 4.3,\n        \"max\": 7.0,\n        \"num_unique_values\": 28,\n        \"samples\": [\n          5.8,\n          6.7,\n          4.3\n        ],\n        \"semantic_type\": \"\",\n        \"description\": \"\"\n      }\n    },\n    {\n      \"column\": \"sepal_width\",\n      \"properties\": {\n        \"dtype\": \"number\",\n        \"std\": 0.47605703758090057,\n        \"min\": 2.0,\n        \"max\": 4.4,\n        \"num_unique_values\": 23,\n        \"samples\": [\n          2.3,\n          4.0,\n          3.5\n        ],\n        \"semantic_type\": \"\",\n        \"description\": \"\"\n      }\n    },\n    {\n      \"column\": \"petal_length\",\n      \"properties\": {\n        \"dtype\": \"number\",\n        \"std\": 1.4485645977792618,\n        \"min\": 1.0,\n        \"max\": 5.1,\n        \"num_unique_values\": 28,\n        \"samples\": [\n          4.7,\n          3.7,\n          1.9\n        ],\n        \"semantic_type\": \"\",\n        \"description\": \"\"\n      }\n    },\n    {\n      \"column\": \"petal_width\",\n      \"properties\": {\n        \"dtype\": \"number\",\n        \"std\": 0.5662877521029553,\n        \"min\": 0.1,\n        \"max\": 1.8,\n        \"num_unique_values\": 15,\n        \"samples\": [\n          1.6,\n          1.1,\n          0.2\n        ],\n        \"semantic_type\": \"\",\n        \"description\": \"\"\n      }\n    },\n    {\n      \"column\": \"species\",\n      \"properties\": {\n        \"dtype\": \"category\",\n        \"num_unique_values\": 2,\n        \"samples\": [\n          \"versicolor\",\n          \"setosa\"\n        ],\n        \"semantic_type\": \"\",\n        \"description\": \"\"\n      }\n    },\n    {\n      \"column\": \"encoded_species\",\n      \"properties\": {\n        \"dtype\": \"number\",\n        \"std\": 0,\n        \"min\": 0,\n        \"max\": 1,\n        \"num_unique_values\": 2,\n        \"samples\": [\n          1,\n          0\n        ],\n        \"semantic_type\": \"\",\n        \"description\": \"\"\n      }\n    }\n  ]\n}"
            }
          },
          "metadata": {},
          "execution_count": 7
        }
      ]
    },
    {
      "cell_type": "code",
      "source": [
        "df.drop(columns=[\"species\"],inplace=True)\n"
      ],
      "metadata": {
        "id": "sZf3piyASD-y"
      },
      "execution_count": 8,
      "outputs": []
    },
    {
      "cell_type": "code",
      "source": [
        "X_train, X_test, y_train, y_test = train_test_split(df.iloc[:, :-1], df.iloc[:, -1], test_size=0.2)"
      ],
      "metadata": {
        "id": "JoD1zs65SGZO"
      },
      "execution_count": 9,
      "outputs": []
    },
    {
      "cell_type": "code",
      "source": [
        "scaler = StandardScaler()\n",
        "X_train = scaler.fit_transform(X_train)\n",
        "X_test = scaler.transform(X_test)"
      ],
      "metadata": {
        "id": "w8YcCBjhSJtP"
      },
      "execution_count": 10,
      "outputs": []
    },
    {
      "cell_type": "code",
      "source": [
        "X_train"
      ],
      "metadata": {
        "colab": {
          "base_uri": "https://localhost:8080/"
        },
        "id": "mBq4_mzzSMfZ",
        "outputId": "b220da4a-d01d-45ce-ba1f-b3ed6029ed0b"
      },
      "execution_count": 11,
      "outputs": [
        {
          "output_type": "execute_result",
          "data": {
            "text/plain": [
              "array([[-0.70610559, -0.22852704, -0.87502229, -1.04130681],\n",
              "       [-0.55091755,  1.53360914, -0.87502229, -1.04130681],\n",
              "       [ 0.3802107 ,  1.53360914, -0.80672786, -0.86739335],\n",
              "       [ 0.22502266, -1.32986215,  0.69574943,  0.52391428],\n",
              "       [ 1.93209112, -0.00826001,  1.03722154,  1.04565464],\n",
              "       [-0.08535342,  1.31334212, -0.94331671, -1.04130681],\n",
              "       [ 1.15615091, -0.44879406,  0.96892712,  0.87174119],\n",
              "       [ 0.53539874, -0.8893281 ,  0.83233827,  0.35000083],\n",
              "       [-0.86129363, -1.55012917,  0.28598289,  0.35000083],\n",
              "       [ 0.53539874, -1.10959512,  0.76404385,  0.69782774],\n",
              "       [-0.55091755, -1.32986215,  0.08109963,  0.52391428],\n",
              "       [-1.32685776,  0.21200701, -1.01161113, -1.04130681],\n",
              "       [-1.63723384, -0.44879406, -1.01161113, -1.04130681],\n",
              "       [ 1.31133895, -1.32986215,  1.37869365,  1.2195681 ],\n",
              "       [-1.01648167,  0.65254105, -0.67013902, -1.04130681],\n",
              "       [ 0.06983462, -1.32986215,  0.76404385,  0.87174119],\n",
              "       [-0.70610559,  0.21200701, -1.14819997, -1.04130681],\n",
              "       [ 0.3802107 ,  2.85521128, -0.94331671, -0.6934799 ],\n",
              "       [ 1.93209112, -0.22852704,  1.44698807,  1.56739501],\n",
              "       [ 0.3802107 , -1.10959512,  0.42257174,  0.35000083],\n",
              "       [-0.08535342,  0.65254105, -0.94331671, -0.6934799 ],\n",
              "       [-0.86129363, -0.22852704, -1.01161113, -1.04130681],\n",
              "       [ 1.15615091, -1.99066321,  1.10551596,  1.2195681 ],\n",
              "       [-0.86129363, -0.00826001, -0.94331671, -1.21522026],\n",
              "       [-1.01648167, -0.00826001, -0.87502229, -1.04130681],\n",
              "       [-1.4820458 , -1.77039619, -1.07990555, -0.86739335],\n",
              "       [-1.01648167,  0.65254105, -0.87502229, -1.04130681],\n",
              "       [-0.08535342,  1.75387616, -0.80672786, -0.6934799 ],\n",
              "       [-0.70610559,  0.87280808, -1.07990555, -0.86739335],\n",
              "       [ 0.06983462, -1.55012917,  0.627455  ,  0.52391428],\n",
              "       [-0.86129363, -0.00826001, -0.94331671, -1.21522026],\n",
              "       [-0.70610559,  1.0930751 , -1.01161113, -1.04130681],\n",
              "       [ 0.06983462, -1.77039619,  0.76404385,  0.87174119],\n",
              "       [-0.70610559,  0.43227403, -1.01161113, -1.04130681],\n",
              "       [-0.55091755,  0.65254105, -0.94331671, -1.04130681],\n",
              "       [-0.55091755,  0.87280808, -1.01161113, -1.04130681],\n",
              "       [ 0.06983462,  2.41467723, -1.01161113, -1.04130681],\n",
              "       [ 0.69058679, -0.22852704,  0.90063269,  1.2195681 ],\n",
              "       [-1.01648167, -0.22852704, -1.01161113, -0.86739335],\n",
              "       [ 0.06983462,  0.87280808, -1.07990555, -1.04130681],\n",
              "       [-0.55091755,  1.53360914, -0.94331671, -0.86739335],\n",
              "       [ 1.00096287, -0.44879406,  1.24210481,  1.04565464],\n",
              "       [ 1.62171504, -0.66906108,  1.17381038,  1.2195681 ],\n",
              "       [-1.32685776,  1.0930751 , -1.28478882, -1.04130681],\n",
              "       [ 0.06983462, -1.10959512,  1.03722154,  0.69782774],\n",
              "       [ 0.22502266, -0.22852704,  0.83233827,  0.87174119],\n",
              "       [-1.17166972,  0.21200701, -1.07990555, -1.04130681],\n",
              "       [-0.55091755,  1.53360914, -0.67013902, -0.6934799 ],\n",
              "       [ 1.00096287, -0.66906108,  1.24210481,  0.69782774],\n",
              "       [ 0.22502266, -0.22852704,  1.10551596,  1.2195681 ],\n",
              "       [ 1.46652699,  0.21200701,  1.10551596,  1.2195681 ],\n",
              "       [-0.55091755,  0.87280808, -1.01161113, -0.86739335],\n",
              "       [ 0.22502266, -0.44879406,  0.49086616,  0.87174119],\n",
              "       [-0.24054146,  1.31334212, -0.94331671, -1.04130681],\n",
              "       [ 0.69058679,  0.21200701,  1.31039923,  1.74130846],\n",
              "       [-1.17166972,  0.21200701, -0.87502229, -1.04130681],\n",
              "       [ 0.3802107 , -0.66906108,  0.83233827,  0.87174119],\n",
              "       [ 1.77690308, -0.44879406,  1.17381038,  0.87174119],\n",
              "       [ 1.00096287, -0.22852704,  1.17381038,  1.04565464],\n",
              "       [ 0.84577483, -0.44879406,  1.10551596,  1.2195681 ],\n",
              "       [-0.70610559, -1.77039619,  0.28598289,  0.35000083],\n",
              "       [ 0.84577483, -0.8893281 ,  1.51528249,  1.39348155],\n",
              "       [-1.63723384,  0.21200701, -1.07990555, -1.04130681],\n",
              "       [ 0.84577483,  0.65254105,  1.10551596,  1.39348155],\n",
              "       [ 1.31133895, -1.77039619,  1.03722154,  0.87174119],\n",
              "       [ 2.2424672 , -0.00826001,  1.37869365,  1.2195681 ],\n",
              "       [ 0.3802107 , -0.66906108,  1.10551596,  0.87174119],\n",
              "       [ 2.39765525,  0.21200701,  1.24210481,  1.04565464],\n",
              "       [-0.55091755,  1.31334212, -0.94331671, -0.6934799 ],\n",
              "       [ 1.31133895,  0.43227403,  1.24210481,  1.39348155],\n",
              "       [-0.70610559,  0.65254105, -0.94331671, -1.04130681],\n",
              "       [-1.79242188, -0.22852704, -1.2164944 , -1.21522026],\n",
              "       [-0.08535342, -0.22852704,  1.10551596,  1.2195681 ],\n",
              "       [ 0.3802107 , -0.22852704,  0.90063269,  0.69782774],\n",
              "       [-1.32685776,  0.65254105, -1.01161113, -0.86739335],\n",
              "       [-0.39572951,  0.65254105, -1.01161113, -1.04130681],\n",
              "       [-1.32685776, -0.00826001, -0.94331671, -1.04130681],\n",
              "       [-0.39572951, -0.8893281 ,  0.69574943,  1.04565464],\n",
              "       [-0.70610559,  0.87280808, -0.87502229, -0.34565299],\n",
              "       [ 1.93209112, -0.00826001,  1.24210481,  1.2195681 ]])"
            ]
          },
          "metadata": {},
          "execution_count": 11
        }
      ]
    },
    {
      "cell_type": "code",
      "source": [
        "X_train_tensor = torch.from_numpy(X_train.astype(np.float32))\n",
        "X_test_tensor = torch.from_numpy(X_test.astype(np.float32))\n",
        "y_train_tensor = torch.from_numpy(y_train.to_numpy().astype(np.float32))\n",
        "y_test_tensor = torch.from_numpy(y_test.to_numpy().astype(np.float32))"
      ],
      "metadata": {
        "id": "W_tVOwntSN27"
      },
      "execution_count": 18,
      "outputs": []
    },
    {
      "cell_type": "code",
      "source": [
        "X_train_tensor.shape"
      ],
      "metadata": {
        "colab": {
          "base_uri": "https://localhost:8080/"
        },
        "id": "ks-Jc1v7SUwD",
        "outputId": "53ee6cb1-89eb-4c40-f86a-95c856f351b4"
      },
      "execution_count": 19,
      "outputs": [
        {
          "output_type": "execute_result",
          "data": {
            "text/plain": [
              "torch.Size([80, 4])"
            ]
          },
          "metadata": {},
          "execution_count": 19
        }
      ]
    },
    {
      "cell_type": "code",
      "source": [
        "X_test_tensor.shape"
      ],
      "metadata": {
        "colab": {
          "base_uri": "https://localhost:8080/"
        },
        "id": "miToewTkSYkm",
        "outputId": "27763a94-e0db-49d1-ea09-ee5dbab564bf"
      },
      "execution_count": 20,
      "outputs": [
        {
          "output_type": "execute_result",
          "data": {
            "text/plain": [
              "torch.Size([20, 4])"
            ]
          },
          "metadata": {},
          "execution_count": 20
        }
      ]
    },
    {
      "cell_type": "code",
      "source": [
        "import torch.nn as nn\n",
        "\n",
        "class Model(nn.Module):\n",
        "  def __init__(self,num_features):\n",
        "    super().__init__()\n",
        "    self.linear = nn.Linear(num_features,1)\n",
        "    self.sigmoid = nn.Sigmoid()\n",
        "\n",
        "  def forward(self,features):\n",
        "    out = self.linear(features)\n",
        "    out = self.sigmoid(out)\n",
        "    return out"
      ],
      "metadata": {
        "id": "6cKr2a38Sa2g"
      },
      "execution_count": 21,
      "outputs": []
    },
    {
      "cell_type": "code",
      "source": [
        "learning_rate = 0.1\n",
        "epochs = 25\n",
        "loss_function = nn.BCELoss()"
      ],
      "metadata": {
        "id": "T7DFIiFqUTvP"
      },
      "execution_count": 22,
      "outputs": []
    },
    {
      "cell_type": "code",
      "source": [
        "model = Model(X_train_tensor.shape[1])\n",
        "optimizer = torch.optim.SGD(model.parameters(), lr=learning_rate)\n",
        "\n",
        "for epoch in range(epochs):\n",
        "  #forward pass\n",
        "  y_pred = model(X_train_tensor)\n",
        "\n",
        "  #loss\n",
        "  loss = loss_function(y_pred.squeeze(), y_train_tensor)\n",
        "\n",
        "  # clear gradients\n",
        "  optimizer.zero_grad()\n",
        "\n",
        "  #backward pass\n",
        "  loss.backward()\n",
        "\n",
        "  #params update\n",
        "  optimizer.step()\n",
        "\n",
        "  print(f'Epoch: {epoch + 1}, Loss: {loss.item()}')\n",
        ""
      ],
      "metadata": {
        "colab": {
          "base_uri": "https://localhost:8080/"
        },
        "id": "Ng4uRRJHUaH_",
        "outputId": "77760d4a-091a-4206-d321-e85f922cb140"
      },
      "execution_count": 24,
      "outputs": [
        {
          "output_type": "stream",
          "name": "stdout",
          "text": [
            "Epoch: 1, Loss: 0.7308187484741211\n",
            "Epoch: 2, Loss: 0.6597815155982971\n",
            "Epoch: 3, Loss: 0.5987181663513184\n",
            "Epoch: 4, Loss: 0.5461111068725586\n",
            "Epoch: 5, Loss: 0.5006340742111206\n",
            "Epoch: 6, Loss: 0.4611549377441406\n",
            "Epoch: 7, Loss: 0.4267217516899109\n",
            "Epoch: 8, Loss: 0.396541029214859\n",
            "Epoch: 9, Loss: 0.3699546754360199\n",
            "Epoch: 10, Loss: 0.34641799330711365\n",
            "Epoch: 11, Loss: 0.32547980546951294\n",
            "Epoch: 12, Loss: 0.30676573514938354\n",
            "Epoch: 13, Loss: 0.28996431827545166\n",
            "Epoch: 14, Loss: 0.2748156487941742\n",
            "Epoch: 15, Loss: 0.26110154390335083\n",
            "Epoch: 16, Loss: 0.2486386001110077\n",
            "Epoch: 17, Loss: 0.23727157711982727\n",
            "Epoch: 18, Loss: 0.2268686294555664\n",
            "Epoch: 19, Loss: 0.21731731295585632\n",
            "Epoch: 20, Loss: 0.2085212916135788\n",
            "Epoch: 21, Loss: 0.20039761066436768\n",
            "Epoch: 22, Loss: 0.19287462532520294\n",
            "Epoch: 23, Loss: 0.1858901083469391\n",
            "Epoch: 24, Loss: 0.17938995361328125\n",
            "Epoch: 25, Loss: 0.17332682013511658\n"
          ]
        }
      ]
    },
    {
      "cell_type": "code",
      "source": [
        "# model evaluation\n",
        "with torch.no_grad():\n",
        "  y_pred = model.forward(X_test_tensor)\n",
        "  y_pred = (y_pred > 0.5).float()\n",
        "  accuracy = (y_pred == y_test_tensor).float().mean()\n",
        "  print(f'Accuracy: {accuracy.item()}')"
      ],
      "metadata": {
        "colab": {
          "base_uri": "https://localhost:8080/"
        },
        "id": "K-uhCX2mW0o5",
        "outputId": "57d39315-1234-42e6-90a9-4e6251da693f"
      },
      "execution_count": 25,
      "outputs": [
        {
          "output_type": "stream",
          "name": "stdout",
          "text": [
            "Accuracy: 0.5\n"
          ]
        }
      ]
    },
    {
      "cell_type": "code",
      "source": [],
      "metadata": {
        "id": "jexlB8teXeUu"
      },
      "execution_count": null,
      "outputs": []
    }
  ]
}