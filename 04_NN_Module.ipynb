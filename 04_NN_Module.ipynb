{
  "nbformat": 4,
  "nbformat_minor": 0,
  "metadata": {
    "colab": {
      "provenance": [],
      "authorship_tag": "ABX9TyNM5WnMRYfecRrorh1WpIoK",
      "include_colab_link": true
    },
    "kernelspec": {
      "name": "python3",
      "display_name": "Python 3"
    },
    "language_info": {
      "name": "python"
    }
  },
  "cells": [
    {
      "cell_type": "markdown",
      "metadata": {
        "id": "view-in-github",
        "colab_type": "text"
      },
      "source": [
        "<a href=\"https://colab.research.google.com/github/ThisIsFarhan/pytorch-codes/blob/main/04_NN_Module.ipynb\" target=\"_parent\"><img src=\"https://colab.research.google.com/assets/colab-badge.svg\" alt=\"Open In Colab\"/></a>"
      ]
    },
    {
      "cell_type": "code",
      "execution_count": 4,
      "metadata": {
        "colab": {
          "base_uri": "https://localhost:8080/"
        },
        "id": "QjZkSjA-IXab",
        "outputId": "4a0607e0-2b0d-42f8-950a-630c56cea2dd"
      },
      "outputs": [
        {
          "output_type": "execute_result",
          "data": {
            "text/plain": [
              "tensor([[0.4938],\n",
              "        [0.4845],\n",
              "        [0.5457],\n",
              "        [0.5212],\n",
              "        [0.5482],\n",
              "        [0.4579],\n",
              "        [0.5741],\n",
              "        [0.4803],\n",
              "        [0.5242],\n",
              "        [0.4883]], grad_fn=<SigmoidBackward0>)"
            ]
          },
          "metadata": {},
          "execution_count": 4
        }
      ],
      "source": [
        "import torch\n",
        "import torch.nn as nn\n",
        "\n",
        "class Model(nn.Module):\n",
        "  def __init__(self, num_features):\n",
        "    super().__init__() #calling the constructor of the super class with the constructor of child class\n",
        "    self.linear = nn.Linear(num_features, 1) #(input, output)\n",
        "    self.sigmoid = nn.Sigmoid()\n",
        "\n",
        "  def forward(self, features):\n",
        "    out = self.linear(features) #z = wx + b\n",
        "    out = self.sigmoid(out) #sig(z)\n",
        "\n",
        "    return out\n",
        "\n",
        "\n",
        "features = torch.rand(10,5)\n",
        "model = Model(features.shape[1])\n",
        "model(features)\n"
      ]
    },
    {
      "cell_type": "code",
      "source": [
        "model.linear.weight"
      ],
      "metadata": {
        "colab": {
          "base_uri": "https://localhost:8080/"
        },
        "id": "Gm-V-pj-Idn0",
        "outputId": "32431704-8e05-4f9e-8496-4402c0668a6a"
      },
      "execution_count": 6,
      "outputs": [
        {
          "output_type": "execute_result",
          "data": {
            "text/plain": [
              "Parameter containing:\n",
              "tensor([[ 0.3112, -0.1609,  0.2010, -0.3994, -0.1510]], requires_grad=True)"
            ]
          },
          "metadata": {},
          "execution_count": 6
        }
      ]
    },
    {
      "cell_type": "code",
      "source": [
        "model.linear.bias"
      ],
      "metadata": {
        "colab": {
          "base_uri": "https://localhost:8080/"
        },
        "id": "7OEkxcp9Lbyd",
        "outputId": "5d7a96e8-977b-473c-a4cb-cfed611e5a85"
      },
      "execution_count": 7,
      "outputs": [
        {
          "output_type": "execute_result",
          "data": {
            "text/plain": [
              "Parameter containing:\n",
              "tensor([0.0608], requires_grad=True)"
            ]
          },
          "metadata": {},
          "execution_count": 7
        }
      ]
    },
    {
      "cell_type": "code",
      "source": [
        "!pip install torchinfo"
      ],
      "metadata": {
        "colab": {
          "base_uri": "https://localhost:8080/"
        },
        "id": "7k1E_V_1Leeg",
        "outputId": "4d340493-c476-4530-ca0e-50c5cddd1edf"
      },
      "execution_count": 8,
      "outputs": [
        {
          "output_type": "stream",
          "name": "stdout",
          "text": [
            "Collecting torchinfo\n",
            "  Downloading torchinfo-1.8.0-py3-none-any.whl.metadata (21 kB)\n",
            "Downloading torchinfo-1.8.0-py3-none-any.whl (23 kB)\n",
            "Installing collected packages: torchinfo\n",
            "Successfully installed torchinfo-1.8.0\n"
          ]
        }
      ]
    },
    {
      "cell_type": "code",
      "source": [
        "from torchinfo import summary\n",
        "summary(model, input_size=(10,5))"
      ],
      "metadata": {
        "colab": {
          "base_uri": "https://localhost:8080/"
        },
        "id": "Z8zupo0NLmtk",
        "outputId": "f96b7a16-08e2-48d6-ecd2-503a1102a030"
      },
      "execution_count": 10,
      "outputs": [
        {
          "output_type": "execute_result",
          "data": {
            "text/plain": [
              "==========================================================================================\n",
              "Layer (type:depth-idx)                   Output Shape              Param #\n",
              "==========================================================================================\n",
              "Model                                    [10, 1]                   --\n",
              "├─Linear: 1-1                            [10, 1]                   6\n",
              "├─Sigmoid: 1-2                           [10, 1]                   --\n",
              "==========================================================================================\n",
              "Total params: 6\n",
              "Trainable params: 6\n",
              "Non-trainable params: 0\n",
              "Total mult-adds (Units.MEGABYTES): 0.00\n",
              "==========================================================================================\n",
              "Input size (MB): 0.00\n",
              "Forward/backward pass size (MB): 0.00\n",
              "Params size (MB): 0.00\n",
              "Estimated Total Size (MB): 0.00\n",
              "=========================================================================================="
            ]
          },
          "metadata": {},
          "execution_count": 10
        }
      ]
    },
    {
      "cell_type": "code",
      "source": [
        "import torch\n",
        "import torch.nn as nn\n",
        "\n",
        "class Model(nn.Module):\n",
        "  def __init__(self, num_features):\n",
        "    super().__init__() #calling the constructor of the super class with the constructor of child class\n",
        "    self.linear1 = nn.Linear(num_features, 3) #(input, output)\n",
        "    self.relu = nn.ReLU()\n",
        "    self.linear2 = nn.Linear(3,1)\n",
        "    self.sigmoid = nn.Sigmoid()\n",
        "\n",
        "  def forward(self, features):\n",
        "    out = self.linear1(features)\n",
        "    out = self.relu(out)\n",
        "    out = self.linear2(out)\n",
        "    out = self.sigmoid(out)\n",
        "\n",
        "    return out\n",
        "\n",
        "\n",
        "features = torch.rand(10,5)\n",
        "model = Model(features.shape[1])\n",
        "print(model(features))\n",
        "print(summary(model,input_size=(10,5)))\n",
        "print(f\"Layer 1 weights: {model.linear1.weight}\")\n",
        "print(f\"Layer 2 weights: {model.linear2.weight}\")\n",
        "print(f\"Layer 1 bias: {model.linear1.bias}\")\n",
        "print(f\"Layer 2 bias: {model.linear2.bias}\")"
      ],
      "metadata": {
        "colab": {
          "base_uri": "https://localhost:8080/"
        },
        "id": "zLWBdQ_eLxB9",
        "outputId": "048faaf9-550e-4531-9e64-cbcb2b8bc469"
      },
      "execution_count": 16,
      "outputs": [
        {
          "output_type": "stream",
          "name": "stdout",
          "text": [
            "tensor([[0.5807],\n",
            "        [0.5900],\n",
            "        [0.5807],\n",
            "        [0.5807],\n",
            "        [0.5807],\n",
            "        [0.5807],\n",
            "        [0.5807],\n",
            "        [0.5807],\n",
            "        [0.5807],\n",
            "        [0.5813]], grad_fn=<SigmoidBackward0>)\n",
            "==========================================================================================\n",
            "Layer (type:depth-idx)                   Output Shape              Param #\n",
            "==========================================================================================\n",
            "Model                                    [10, 1]                   --\n",
            "├─Linear: 1-1                            [10, 3]                   18\n",
            "├─ReLU: 1-2                              [10, 3]                   --\n",
            "├─Linear: 1-3                            [10, 1]                   4\n",
            "├─Sigmoid: 1-4                           [10, 1]                   --\n",
            "==========================================================================================\n",
            "Total params: 22\n",
            "Trainable params: 22\n",
            "Non-trainable params: 0\n",
            "Total mult-adds (Units.MEGABYTES): 0.00\n",
            "==========================================================================================\n",
            "Input size (MB): 0.00\n",
            "Forward/backward pass size (MB): 0.00\n",
            "Params size (MB): 0.00\n",
            "Estimated Total Size (MB): 0.00\n",
            "==========================================================================================\n",
            "Layer 1 weights: Parameter containing:\n",
            "tensor([[ 0.1641,  0.0075, -0.1695, -0.4057, -0.2363],\n",
            "        [-0.3619, -0.3272, -0.3936,  0.0839, -0.1613],\n",
            "        [ 0.1705, -0.3122,  0.3059,  0.3904, -0.1534]], requires_grad=True)\n",
            "Layer 2 weights: Parameter containing:\n",
            "tensor([[-0.3173, -0.2062,  0.3295]], requires_grad=True)\n",
            "Layer 1 bias: Parameter containing:\n",
            "tensor([-0.2372, -0.2530, -0.2517], requires_grad=True)\n",
            "Layer 2 bias: Parameter containing:\n",
            "tensor([0.3257], requires_grad=True)\n"
          ]
        }
      ]
    },
    {
      "cell_type": "code",
      "source": [
        "import torch\n",
        "import torch.nn as nn\n",
        "\n",
        "class Model(nn.Module):\n",
        "  def __init__(self, num_features):\n",
        "    super().__init__() #calling the constructor of the super class with the constructor of child class\n",
        "    self.network = nn.Sequential(\n",
        "      nn.Linear(num_features, 3),\n",
        "      nn.ReLU(),\n",
        "      nn.Linear(3,1),\n",
        "      nn.Sigmoid()\n",
        "    )\n",
        "\n",
        "\n",
        "  def forward(self, features):\n",
        "    out = self.network(features)\n",
        "    return out\n",
        "\n",
        "\n",
        "features = torch.rand(10,5)\n",
        "model = Model(features.shape[1])\n",
        "print(model(features))\n",
        "print(summary(model,input_size=(10,5)))"
      ],
      "metadata": {
        "colab": {
          "base_uri": "https://localhost:8080/"
        },
        "id": "PRqF1YX-OVYq",
        "outputId": "b0ff601d-d71e-4b27-c368-785bd61b6468"
      },
      "execution_count": 19,
      "outputs": [
        {
          "output_type": "stream",
          "name": "stdout",
          "text": [
            "tensor([[0.3282],\n",
            "        [0.3563],\n",
            "        [0.3585],\n",
            "        [0.3606],\n",
            "        [0.3684],\n",
            "        [0.3293],\n",
            "        [0.3658],\n",
            "        [0.3434],\n",
            "        [0.3364],\n",
            "        [0.3724]], grad_fn=<SigmoidBackward0>)\n",
            "==========================================================================================\n",
            "Layer (type:depth-idx)                   Output Shape              Param #\n",
            "==========================================================================================\n",
            "Model                                    [10, 1]                   --\n",
            "├─Sequential: 1-1                        [10, 1]                   --\n",
            "│    └─Linear: 2-1                       [10, 3]                   18\n",
            "│    └─ReLU: 2-2                         [10, 3]                   --\n",
            "│    └─Linear: 2-3                       [10, 1]                   4\n",
            "│    └─Sigmoid: 2-4                      [10, 1]                   --\n",
            "==========================================================================================\n",
            "Total params: 22\n",
            "Trainable params: 22\n",
            "Non-trainable params: 0\n",
            "Total mult-adds (Units.MEGABYTES): 0.00\n",
            "==========================================================================================\n",
            "Input size (MB): 0.00\n",
            "Forward/backward pass size (MB): 0.00\n",
            "Params size (MB): 0.00\n",
            "Estimated Total Size (MB): 0.00\n",
            "==========================================================================================\n"
          ]
        }
      ]
    }
  ]
}