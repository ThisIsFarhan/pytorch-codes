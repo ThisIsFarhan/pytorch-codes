{
  "nbformat": 4,
  "nbformat_minor": 0,
  "metadata": {
    "colab": {
      "provenance": [],
      "gpuType": "T4",
      "authorship_tag": "ABX9TyO+DQoiYU9JPfc/ohCgyWxQ",
      "include_colab_link": true
    },
    "kernelspec": {
      "name": "python3",
      "display_name": "Python 3"
    },
    "language_info": {
      "name": "python"
    },
    "accelerator": "GPU"
  },
  "cells": [
    {
      "cell_type": "markdown",
      "metadata": {
        "id": "view-in-github",
        "colab_type": "text"
      },
      "source": [
        "<a href=\"https://colab.research.google.com/github/ThisIsFarhan/pytorch-codes/blob/main/11_LSTM.ipynb\" target=\"_parent\"><img src=\"https://colab.research.google.com/assets/colab-badge.svg\" alt=\"Open In Colab\"/></a>"
      ]
    },
    {
      "cell_type": "code",
      "execution_count": null,
      "metadata": {
        "id": "Iw9g9R2vUOu0"
      },
      "outputs": [],
      "source": [
        "!pip install nltk"
      ]
    },
    {
      "cell_type": "code",
      "source": [
        "import torch\n",
        "import torch.nn as nn\n",
        "import torch.optim as optim\n",
        "import numpy as np\n",
        "from collections import Counter\n",
        "from torch.utils.data import Dataset, DataLoader\n",
        "from nltk.tokenize import word_tokenize\n",
        "import nltk"
      ],
      "metadata": {
        "id": "jCk68hPVVHd6"
      },
      "execution_count": 1,
      "outputs": []
    },
    {
      "cell_type": "code",
      "source": [
        "doc = \"\"\"\n",
        "\"\"About the Bootcamp\n",
        "\n",
        "What is the AI & Machine Learning Bootcamp?\n",
        "The AI & Machine Learning Bootcamp is a comprehensive online training program designed to help students and professionals master AI concepts and industry applications. The bootcamp includes hands-on projects, mentor support, and job readiness assistance.\n",
        "\n",
        "What is the fee structure for the Bootcamp?\n",
        "The Bootcamp follows a monthly subscription model with a fee of $49 per month. The total duration of the Bootcamp is 6 months, so the total cost is approximately $294.\n",
        "\n",
        "What topics are covered in the Bootcamp?\n",
        "The Bootcamp covers the following topics:\n",
        "- Introduction to AI and Machine Learning\n",
        "- Python for Data Science\n",
        "- Data Preprocessing and Feature Engineering\n",
        "- Supervised and Unsupervised Learning\n",
        "- Deep Learning with TensorFlow and PyTorch\n",
        "- Computer Vision\n",
        "- Natural Language Processing (NLP)\n",
        "- Model Deployment and MLOps\n",
        "- Capstone Project\n",
        "\n",
        "Are Deep Learning and NLP included in the curriculum?\n",
        "Yes, both Deep Learning and NLP are integral parts of the curriculum.\n",
        "\n",
        "Are all sessions recorded?\n",
        "Yes, all live sessions are recorded and will be available for students to watch at their convenience.\n",
        "\n",
        "How can I access the class schedule?\n",
        "The class schedule is available on our official website under the \"Schedule\" section. You will also receive email notifications about upcoming sessions.\n",
        "\n",
        "What is the average duration of each live session?\n",
        "Each live session lasts approximately 1.5 to 2 hours.\n",
        "\n",
        "What is the language of instruction?\n",
        "The primary language of instruction is English.\n",
        "\n",
        "Can I join the Bootcamp if I have no prior programming experience?\n",
        "Yes, the Bootcamp includes an introductory module on Python programming to help beginners get started.\n",
        "\n",
        "Can I join in the middle of the Bootcamp?\n",
        "Yes, you can join anytime. Once you enroll, you will gain access to all past recorded sessions and study materials.\n",
        "\n",
        "Payment and Subscription Details\n",
        "\n",
        "Where can I make the payment for the Bootcamp?\n",
        "All payments should be made through our official website. Here is the link: https://aibootcamp.com.\n",
        "\n",
        "Can I make a one-time payment for the entire Bootcamp?\n",
        "No, the Bootcamp follows a monthly subscription model.\n",
        "\n",
        "What is the validity of the monthly subscription? If I pay on the 10th, when do I need to renew?\n",
        "The subscription is valid for 30 days from the payment date. If you pay on the 10th, your next payment is due on the 10th of the following month.\n",
        "\n",
        "Is there a refund policy?\n",
        "Yes, you can request a refund within 7 days of payment.\n",
        "\n",
        "What should I do if I face issues with payment?\n",
        "You can contact our support team at support@aibootcamp.com.\n",
        "\n",
        "Post-Registration Queries\n",
        "\n",
        "How long can I access the course material?\n",
        "You will have access to the course material as long as your subscription is active. Once you complete the Bootcamp, you will retain access to all materials for an additional 3 months.\n",
        "\n",
        "What if I have questions after a session?\n",
        "You can post your questions in the community forum, and our instructors will respond. Additionally, you can schedule a one-on-one doubt-clearing session.\n",
        "\n",
        "Can I ask doubts from past sessions?\n",
        "Yes, you can ask doubts related to any previous session at any time during the Bootcamp.\n",
        "\n",
        "Certificate and Career Support\n",
        "\n",
        "What are the criteria for earning a certificate?\n",
        "To earn the certificate, you must:\n",
        "- Complete all modules\n",
        "- Submit all assignments and projects\n",
        "- Pass the final assessment\n",
        "\n",
        "Does the Bootcamp offer job placement assistance?\n",
        "Yes, we provide job assistance, which includes:\n",
        "- Resume building\n",
        "- Mock interviews\n",
        "- Industry networking sessions\n",
        "- Guidance on job applications\n",
        "\n",
        "Does job assistance guarantee a job?\n",
        "No, job assistance does not guarantee placement, but we provide resources and guidance to improve your employability.\n",
        "\n",
        "Where can I reach out for further queries?\n",
        "For any additional queries, email us at support@aibootcamp.com.\"\"\n",
        "\"\"\""
      ],
      "metadata": {
        "id": "YhgdfGu3UROV"
      },
      "execution_count": 2,
      "outputs": []
    },
    {
      "cell_type": "code",
      "source": [
        "nltk.download('punkt')\n",
        "nltk.download('punkt_tab')"
      ],
      "metadata": {
        "colab": {
          "base_uri": "https://localhost:8080/"
        },
        "id": "oGPVJroXVKms",
        "outputId": "f950bfa8-87d2-48f4-b1b7-b66586cf7da3"
      },
      "execution_count": 3,
      "outputs": [
        {
          "output_type": "stream",
          "name": "stderr",
          "text": [
            "[nltk_data] Downloading package punkt to /root/nltk_data...\n",
            "[nltk_data]   Unzipping tokenizers/punkt.zip.\n",
            "[nltk_data] Downloading package punkt_tab to /root/nltk_data...\n",
            "[nltk_data]   Unzipping tokenizers/punkt_tab.zip.\n"
          ]
        },
        {
          "output_type": "execute_result",
          "data": {
            "text/plain": [
              "True"
            ]
          },
          "metadata": {},
          "execution_count": 3
        }
      ]
    },
    {
      "cell_type": "code",
      "source": [
        "tokens = word_tokenize(doc.lower())"
      ],
      "metadata": {
        "id": "zZSEk7QGV8ap"
      },
      "execution_count": 6,
      "outputs": []
    },
    {
      "cell_type": "code",
      "source": [
        "vocab = {\"<UNK>\":0}\n",
        "\n",
        "for t in Counter(tokens).keys():\n",
        "  if t not in vocab:\n",
        "    vocab[t] = len(vocab)"
      ],
      "metadata": {
        "id": "y9-dXhTHWB5W"
      },
      "execution_count": 12,
      "outputs": []
    },
    {
      "cell_type": "code",
      "source": [
        "vocab"
      ],
      "metadata": {
        "colab": {
          "base_uri": "https://localhost:8080/"
        },
        "id": "mE8LrDztWT0v",
        "outputId": "93de6c57-e4b2-4e7e-f6ff-6a753e11f069"
      },
      "execution_count": 13,
      "outputs": [
        {
          "output_type": "execute_result",
          "data": {
            "text/plain": [
              "{'<UNK>': 0,\n",
              " \"''\": 1,\n",
              " 'about': 2,\n",
              " 'the': 3,\n",
              " 'bootcamp': 4,\n",
              " 'what': 5,\n",
              " 'is': 6,\n",
              " 'ai': 7,\n",
              " '&': 8,\n",
              " 'machine': 9,\n",
              " 'learning': 10,\n",
              " '?': 11,\n",
              " 'a': 12,\n",
              " 'comprehensive': 13,\n",
              " 'online': 14,\n",
              " 'training': 15,\n",
              " 'program': 16,\n",
              " 'designed': 17,\n",
              " 'to': 18,\n",
              " 'help': 19,\n",
              " 'students': 20,\n",
              " 'and': 21,\n",
              " 'professionals': 22,\n",
              " 'master': 23,\n",
              " 'concepts': 24,\n",
              " 'industry': 25,\n",
              " 'applications': 26,\n",
              " '.': 27,\n",
              " 'includes': 28,\n",
              " 'hands-on': 29,\n",
              " 'projects': 30,\n",
              " ',': 31,\n",
              " 'mentor': 32,\n",
              " 'support': 33,\n",
              " 'job': 34,\n",
              " 'readiness': 35,\n",
              " 'assistance': 36,\n",
              " 'fee': 37,\n",
              " 'structure': 38,\n",
              " 'for': 39,\n",
              " 'follows': 40,\n",
              " 'monthly': 41,\n",
              " 'subscription': 42,\n",
              " 'model': 43,\n",
              " 'with': 44,\n",
              " 'of': 45,\n",
              " '$': 46,\n",
              " '49': 47,\n",
              " 'per': 48,\n",
              " 'month': 49,\n",
              " 'total': 50,\n",
              " 'duration': 51,\n",
              " '6': 52,\n",
              " 'months': 53,\n",
              " 'so': 54,\n",
              " 'cost': 55,\n",
              " 'approximately': 56,\n",
              " '294': 57,\n",
              " 'topics': 58,\n",
              " 'are': 59,\n",
              " 'covered': 60,\n",
              " 'in': 61,\n",
              " 'covers': 62,\n",
              " 'following': 63,\n",
              " ':': 64,\n",
              " '-': 65,\n",
              " 'introduction': 66,\n",
              " 'python': 67,\n",
              " 'data': 68,\n",
              " 'science': 69,\n",
              " 'preprocessing': 70,\n",
              " 'feature': 71,\n",
              " 'engineering': 72,\n",
              " 'supervised': 73,\n",
              " 'unsupervised': 74,\n",
              " 'deep': 75,\n",
              " 'tensorflow': 76,\n",
              " 'pytorch': 77,\n",
              " 'computer': 78,\n",
              " 'vision': 79,\n",
              " 'natural': 80,\n",
              " 'language': 81,\n",
              " 'processing': 82,\n",
              " '(': 83,\n",
              " 'nlp': 84,\n",
              " ')': 85,\n",
              " 'deployment': 86,\n",
              " 'mlops': 87,\n",
              " 'capstone': 88,\n",
              " 'project': 89,\n",
              " 'included': 90,\n",
              " 'curriculum': 91,\n",
              " 'yes': 92,\n",
              " 'both': 93,\n",
              " 'integral': 94,\n",
              " 'parts': 95,\n",
              " 'all': 96,\n",
              " 'sessions': 97,\n",
              " 'recorded': 98,\n",
              " 'live': 99,\n",
              " 'will': 100,\n",
              " 'be': 101,\n",
              " 'available': 102,\n",
              " 'watch': 103,\n",
              " 'at': 104,\n",
              " 'their': 105,\n",
              " 'convenience': 106,\n",
              " 'how': 107,\n",
              " 'can': 108,\n",
              " 'i': 109,\n",
              " 'access': 110,\n",
              " 'class': 111,\n",
              " 'schedule': 112,\n",
              " 'on': 113,\n",
              " 'our': 114,\n",
              " 'official': 115,\n",
              " 'website': 116,\n",
              " 'under': 117,\n",
              " '``': 118,\n",
              " 'section': 119,\n",
              " 'you': 120,\n",
              " 'also': 121,\n",
              " 'receive': 122,\n",
              " 'email': 123,\n",
              " 'notifications': 124,\n",
              " 'upcoming': 125,\n",
              " 'average': 126,\n",
              " 'each': 127,\n",
              " 'session': 128,\n",
              " 'lasts': 129,\n",
              " '1.5': 130,\n",
              " '2': 131,\n",
              " 'hours': 132,\n",
              " 'instruction': 133,\n",
              " 'primary': 134,\n",
              " 'english': 135,\n",
              " 'join': 136,\n",
              " 'if': 137,\n",
              " 'have': 138,\n",
              " 'no': 139,\n",
              " 'prior': 140,\n",
              " 'programming': 141,\n",
              " 'experience': 142,\n",
              " 'an': 143,\n",
              " 'introductory': 144,\n",
              " 'module': 145,\n",
              " 'beginners': 146,\n",
              " 'get': 147,\n",
              " 'started': 148,\n",
              " 'middle': 149,\n",
              " 'anytime': 150,\n",
              " 'once': 151,\n",
              " 'enroll': 152,\n",
              " 'gain': 153,\n",
              " 'past': 154,\n",
              " 'study': 155,\n",
              " 'materials': 156,\n",
              " 'payment': 157,\n",
              " 'details': 158,\n",
              " 'where': 159,\n",
              " 'make': 160,\n",
              " 'payments': 161,\n",
              " 'should': 162,\n",
              " 'made': 163,\n",
              " 'through': 164,\n",
              " 'here': 165,\n",
              " 'link': 166,\n",
              " 'https': 167,\n",
              " '//aibootcamp.com': 168,\n",
              " 'one-time': 169,\n",
              " 'entire': 170,\n",
              " 'validity': 171,\n",
              " 'pay': 172,\n",
              " '10th': 173,\n",
              " 'when': 174,\n",
              " 'do': 175,\n",
              " 'need': 176,\n",
              " 'renew': 177,\n",
              " 'valid': 178,\n",
              " '30': 179,\n",
              " 'days': 180,\n",
              " 'from': 181,\n",
              " 'date': 182,\n",
              " 'your': 183,\n",
              " 'next': 184,\n",
              " 'due': 185,\n",
              " 'there': 186,\n",
              " 'refund': 187,\n",
              " 'policy': 188,\n",
              " 'request': 189,\n",
              " 'within': 190,\n",
              " '7': 191,\n",
              " 'face': 192,\n",
              " 'issues': 193,\n",
              " 'contact': 194,\n",
              " 'team': 195,\n",
              " '@': 196,\n",
              " 'aibootcamp.com': 197,\n",
              " 'post-registration': 198,\n",
              " 'queries': 199,\n",
              " 'long': 200,\n",
              " 'course': 201,\n",
              " 'material': 202,\n",
              " 'as': 203,\n",
              " 'active': 204,\n",
              " 'complete': 205,\n",
              " 'retain': 206,\n",
              " 'additional': 207,\n",
              " '3': 208,\n",
              " 'questions': 209,\n",
              " 'after': 210,\n",
              " 'post': 211,\n",
              " 'community': 212,\n",
              " 'forum': 213,\n",
              " 'instructors': 214,\n",
              " 'respond': 215,\n",
              " 'additionally': 216,\n",
              " 'one-on-one': 217,\n",
              " 'doubt-clearing': 218,\n",
              " 'ask': 219,\n",
              " 'doubts': 220,\n",
              " 'related': 221,\n",
              " 'any': 222,\n",
              " 'previous': 223,\n",
              " 'time': 224,\n",
              " 'during': 225,\n",
              " 'certificate': 226,\n",
              " 'career': 227,\n",
              " 'criteria': 228,\n",
              " 'earning': 229,\n",
              " 'earn': 230,\n",
              " 'must': 231,\n",
              " 'modules': 232,\n",
              " 'submit': 233,\n",
              " 'assignments': 234,\n",
              " 'pass': 235,\n",
              " 'final': 236,\n",
              " 'assessment': 237,\n",
              " 'does': 238,\n",
              " 'offer': 239,\n",
              " 'placement': 240,\n",
              " 'we': 241,\n",
              " 'provide': 242,\n",
              " 'which': 243,\n",
              " 'resume': 244,\n",
              " 'building': 245,\n",
              " 'mock': 246,\n",
              " 'interviews': 247,\n",
              " 'networking': 248,\n",
              " 'guidance': 249,\n",
              " 'guarantee': 250,\n",
              " 'not': 251,\n",
              " 'but': 252,\n",
              " 'resources': 253,\n",
              " 'improve': 254,\n",
              " 'employability': 255,\n",
              " 'reach': 256,\n",
              " 'out': 257,\n",
              " 'further': 258,\n",
              " 'us': 259}"
            ]
          },
          "metadata": {},
          "execution_count": 13
        }
      ]
    },
    {
      "cell_type": "code",
      "source": [
        "len(vocab)"
      ],
      "metadata": {
        "colab": {
          "base_uri": "https://localhost:8080/"
        },
        "id": "6QtTVzPkWytG",
        "outputId": "b0ff5424-55ff-48ac-aa7d-11a2e59ec14e"
      },
      "execution_count": 14,
      "outputs": [
        {
          "output_type": "execute_result",
          "data": {
            "text/plain": [
              "260"
            ]
          },
          "metadata": {},
          "execution_count": 14
        }
      ]
    },
    {
      "cell_type": "code",
      "source": [
        "ip = doc.split(\"\\n\")\n",
        "ip = list(filter(None,ip))\n",
        "ip"
      ],
      "metadata": {
        "colab": {
          "base_uri": "https://localhost:8080/"
        },
        "id": "DB24G0TXW3GI",
        "outputId": "2948bafd-57aa-413f-9dbe-6d1a0d056d66"
      },
      "execution_count": 18,
      "outputs": [
        {
          "output_type": "execute_result",
          "data": {
            "text/plain": [
              "['\"\"About the Bootcamp',\n",
              " 'What is the AI & Machine Learning Bootcamp?',\n",
              " 'The AI & Machine Learning Bootcamp is a comprehensive online training program designed to help students and professionals master AI concepts and industry applications. The bootcamp includes hands-on projects, mentor support, and job readiness assistance.',\n",
              " 'What is the fee structure for the Bootcamp?',\n",
              " 'The Bootcamp follows a monthly subscription model with a fee of $49 per month. The total duration of the Bootcamp is 6 months, so the total cost is approximately $294.',\n",
              " 'What topics are covered in the Bootcamp?',\n",
              " 'The Bootcamp covers the following topics:',\n",
              " '- Introduction to AI and Machine Learning',\n",
              " '- Python for Data Science',\n",
              " '- Data Preprocessing and Feature Engineering',\n",
              " '- Supervised and Unsupervised Learning',\n",
              " '- Deep Learning with TensorFlow and PyTorch',\n",
              " '- Computer Vision',\n",
              " '- Natural Language Processing (NLP)',\n",
              " '- Model Deployment and MLOps',\n",
              " '- Capstone Project',\n",
              " 'Are Deep Learning and NLP included in the curriculum?',\n",
              " 'Yes, both Deep Learning and NLP are integral parts of the curriculum.',\n",
              " 'Are all sessions recorded?',\n",
              " 'Yes, all live sessions are recorded and will be available for students to watch at their convenience.',\n",
              " 'How can I access the class schedule?',\n",
              " 'The class schedule is available on our official website under the \"Schedule\" section. You will also receive email notifications about upcoming sessions.',\n",
              " 'What is the average duration of each live session?',\n",
              " 'Each live session lasts approximately 1.5 to 2 hours.',\n",
              " 'What is the language of instruction?',\n",
              " 'The primary language of instruction is English.',\n",
              " 'Can I join the Bootcamp if I have no prior programming experience?',\n",
              " 'Yes, the Bootcamp includes an introductory module on Python programming to help beginners get started.',\n",
              " 'Can I join in the middle of the Bootcamp?',\n",
              " 'Yes, you can join anytime. Once you enroll, you will gain access to all past recorded sessions and study materials.',\n",
              " 'Payment and Subscription Details',\n",
              " 'Where can I make the payment for the Bootcamp?',\n",
              " 'All payments should be made through our official website. Here is the link: https://aibootcamp.com.',\n",
              " 'Can I make a one-time payment for the entire Bootcamp?',\n",
              " 'No, the Bootcamp follows a monthly subscription model.',\n",
              " 'What is the validity of the monthly subscription? If I pay on the 10th, when do I need to renew?',\n",
              " 'The subscription is valid for 30 days from the payment date. If you pay on the 10th, your next payment is due on the 10th of the following month.',\n",
              " 'Is there a refund policy?',\n",
              " 'Yes, you can request a refund within 7 days of payment.',\n",
              " 'What should I do if I face issues with payment?',\n",
              " 'You can contact our support team at support@aibootcamp.com.',\n",
              " 'Post-Registration Queries',\n",
              " 'How long can I access the course material?',\n",
              " 'You will have access to the course material as long as your subscription is active. Once you complete the Bootcamp, you will retain access to all materials for an additional 3 months.',\n",
              " 'What if I have questions after a session?',\n",
              " 'You can post your questions in the community forum, and our instructors will respond. Additionally, you can schedule a one-on-one doubt-clearing session.',\n",
              " 'Can I ask doubts from past sessions?',\n",
              " 'Yes, you can ask doubts related to any previous session at any time during the Bootcamp.',\n",
              " 'Certificate and Career Support',\n",
              " 'What are the criteria for earning a certificate?',\n",
              " 'To earn the certificate, you must:',\n",
              " '- Complete all modules',\n",
              " '- Submit all assignments and projects',\n",
              " '- Pass the final assessment',\n",
              " 'Does the Bootcamp offer job placement assistance?',\n",
              " 'Yes, we provide job assistance, which includes:',\n",
              " '- Resume building',\n",
              " '- Mock interviews',\n",
              " '- Industry networking sessions',\n",
              " '- Guidance on job applications',\n",
              " 'Does job assistance guarantee a job?',\n",
              " 'No, job assistance does not guarantee placement, but we provide resources and guidance to improve your employability.',\n",
              " 'Where can I reach out for further queries?',\n",
              " 'For any additional queries, email us at support@aibootcamp.com.\"\"']"
            ]
          },
          "metadata": {},
          "execution_count": 18
        }
      ]
    },
    {
      "cell_type": "code",
      "source": [
        "def text_to_indices(sentence, vocab):\n",
        "  num_sent = []\n",
        "  for token in sentence:\n",
        "    if token in vocab:\n",
        "      num_sent.append(vocab[token])\n",
        "    else:\n",
        "      num_sent.append(vocab[\"<UNK>\"])\n",
        "  return num_sent"
      ],
      "metadata": {
        "id": "Q2bDynVbXKM7"
      },
      "execution_count": 19,
      "outputs": []
    },
    {
      "cell_type": "code",
      "source": [
        "ip_num_sentences = []\n",
        "\n",
        "for sent in ip:\n",
        "  ip_num_sentences.append(text_to_indices(word_tokenize(sent.lower()),vocab))\n"
      ],
      "metadata": {
        "id": "Yde0o37fYe0h"
      },
      "execution_count": 20,
      "outputs": []
    },
    {
      "cell_type": "code",
      "source": [
        "len(ip_num_sentences)"
      ],
      "metadata": {
        "colab": {
          "base_uri": "https://localhost:8080/"
        },
        "id": "-VAVKZDKbScL",
        "outputId": "0f51bd4c-6ea7-4934-b919-f1785319cfdd"
      },
      "execution_count": 21,
      "outputs": [
        {
          "output_type": "execute_result",
          "data": {
            "text/plain": [
              "64"
            ]
          },
          "metadata": {},
          "execution_count": 21
        }
      ]
    },
    {
      "cell_type": "code",
      "source": [
        "training_ips = []\n",
        "for sent in ip_num_sentences:\n",
        "  for i in range(1, len(sent)):\n",
        "    training_ips.append(sent[:i+1])"
      ],
      "metadata": {
        "id": "UsuexczxbU0Y"
      },
      "execution_count": 22,
      "outputs": []
    },
    {
      "cell_type": "code",
      "source": [
        "len(training_ips)"
      ],
      "metadata": {
        "colab": {
          "base_uri": "https://localhost:8080/"
        },
        "id": "pgj2NOprcHIr",
        "outputId": "4e7ba4c8-c0ea-487f-aae8-7d24bcb7bbc8"
      },
      "execution_count": 23,
      "outputs": [
        {
          "output_type": "execute_result",
          "data": {
            "text/plain": [
              "653"
            ]
          },
          "metadata": {},
          "execution_count": 23
        }
      ]
    },
    {
      "cell_type": "code",
      "source": [
        "training_ips[:5]"
      ],
      "metadata": {
        "colab": {
          "base_uri": "https://localhost:8080/"
        },
        "id": "-1SdkguQcIdm",
        "outputId": "32edcd3b-7e4c-4008-ae99-e6564ac52479"
      },
      "execution_count": 25,
      "outputs": [
        {
          "output_type": "execute_result",
          "data": {
            "text/plain": [
              "[[118, 118], [118, 118, 2], [118, 118, 2, 3], [118, 118, 2, 3, 4], [5, 6]]"
            ]
          },
          "metadata": {},
          "execution_count": 25
        }
      ]
    },
    {
      "cell_type": "code",
      "source": [
        "len_list = []\n",
        "for sequence in training_ips:\n",
        "  len_list.append(len(sequence))\n",
        "max(len_list)"
      ],
      "metadata": {
        "colab": {
          "base_uri": "https://localhost:8080/"
        },
        "id": "iKEu7ZXDcKso",
        "outputId": "62773901-a921-450a-ba6d-24d6d137927f"
      },
      "execution_count": 26,
      "outputs": [
        {
          "output_type": "execute_result",
          "data": {
            "text/plain": [
              "39"
            ]
          },
          "metadata": {},
          "execution_count": 26
        }
      ]
    },
    {
      "cell_type": "code",
      "source": [
        "padded_training_ips = []\n",
        "for seq in training_ips:\n",
        "  padded_training_ips.append([0]*(max(len_list) - len(seq)) + seq)\n",
        "\n"
      ],
      "metadata": {
        "id": "UZkIbJSpcwko"
      },
      "execution_count": 28,
      "outputs": []
    },
    {
      "cell_type": "code",
      "source": [
        "len(padded_training_ips)"
      ],
      "metadata": {
        "colab": {
          "base_uri": "https://localhost:8080/"
        },
        "id": "5IeVC9lEdJ_8",
        "outputId": "c29efd02-7aba-43fe-a8f3-18be2c166c46"
      },
      "execution_count": 29,
      "outputs": [
        {
          "output_type": "execute_result",
          "data": {
            "text/plain": [
              "653"
            ]
          },
          "metadata": {},
          "execution_count": 29
        }
      ]
    },
    {
      "cell_type": "code",
      "source": [
        "for seq in padded_training_ips:\n",
        "  print(len(seq))"
      ],
      "metadata": {
        "colab": {
          "base_uri": "https://localhost:8080/"
        },
        "id": "L1sC3S40dPcM",
        "outputId": "39a88554-434f-4092-e92d-f29be1de87a3"
      },
      "execution_count": 30,
      "outputs": [
        {
          "output_type": "stream",
          "name": "stdout",
          "text": [
            "39\n",
            "39\n",
            "39\n",
            "39\n",
            "39\n",
            "39\n",
            "39\n",
            "39\n",
            "39\n",
            "39\n",
            "39\n",
            "39\n",
            "39\n",
            "39\n",
            "39\n",
            "39\n",
            "39\n",
            "39\n",
            "39\n",
            "39\n",
            "39\n",
            "39\n",
            "39\n",
            "39\n",
            "39\n",
            "39\n",
            "39\n",
            "39\n",
            "39\n",
            "39\n",
            "39\n",
            "39\n",
            "39\n",
            "39\n",
            "39\n",
            "39\n",
            "39\n",
            "39\n",
            "39\n",
            "39\n",
            "39\n",
            "39\n",
            "39\n",
            "39\n",
            "39\n",
            "39\n",
            "39\n",
            "39\n",
            "39\n",
            "39\n",
            "39\n",
            "39\n",
            "39\n",
            "39\n",
            "39\n",
            "39\n",
            "39\n",
            "39\n",
            "39\n",
            "39\n",
            "39\n",
            "39\n",
            "39\n",
            "39\n",
            "39\n",
            "39\n",
            "39\n",
            "39\n",
            "39\n",
            "39\n",
            "39\n",
            "39\n",
            "39\n",
            "39\n",
            "39\n",
            "39\n",
            "39\n",
            "39\n",
            "39\n",
            "39\n",
            "39\n",
            "39\n",
            "39\n",
            "39\n",
            "39\n",
            "39\n",
            "39\n",
            "39\n",
            "39\n",
            "39\n",
            "39\n",
            "39\n",
            "39\n",
            "39\n",
            "39\n",
            "39\n",
            "39\n",
            "39\n",
            "39\n",
            "39\n",
            "39\n",
            "39\n",
            "39\n",
            "39\n",
            "39\n",
            "39\n",
            "39\n",
            "39\n",
            "39\n",
            "39\n",
            "39\n",
            "39\n",
            "39\n",
            "39\n",
            "39\n",
            "39\n",
            "39\n",
            "39\n",
            "39\n",
            "39\n",
            "39\n",
            "39\n",
            "39\n",
            "39\n",
            "39\n",
            "39\n",
            "39\n",
            "39\n",
            "39\n",
            "39\n",
            "39\n",
            "39\n",
            "39\n",
            "39\n",
            "39\n",
            "39\n",
            "39\n",
            "39\n",
            "39\n",
            "39\n",
            "39\n",
            "39\n",
            "39\n",
            "39\n",
            "39\n",
            "39\n",
            "39\n",
            "39\n",
            "39\n",
            "39\n",
            "39\n",
            "39\n",
            "39\n",
            "39\n",
            "39\n",
            "39\n",
            "39\n",
            "39\n",
            "39\n",
            "39\n",
            "39\n",
            "39\n",
            "39\n",
            "39\n",
            "39\n",
            "39\n",
            "39\n",
            "39\n",
            "39\n",
            "39\n",
            "39\n",
            "39\n",
            "39\n",
            "39\n",
            "39\n",
            "39\n",
            "39\n",
            "39\n",
            "39\n",
            "39\n",
            "39\n",
            "39\n",
            "39\n",
            "39\n",
            "39\n",
            "39\n",
            "39\n",
            "39\n",
            "39\n",
            "39\n",
            "39\n",
            "39\n",
            "39\n",
            "39\n",
            "39\n",
            "39\n",
            "39\n",
            "39\n",
            "39\n",
            "39\n",
            "39\n",
            "39\n",
            "39\n",
            "39\n",
            "39\n",
            "39\n",
            "39\n",
            "39\n",
            "39\n",
            "39\n",
            "39\n",
            "39\n",
            "39\n",
            "39\n",
            "39\n",
            "39\n",
            "39\n",
            "39\n",
            "39\n",
            "39\n",
            "39\n",
            "39\n",
            "39\n",
            "39\n",
            "39\n",
            "39\n",
            "39\n",
            "39\n",
            "39\n",
            "39\n",
            "39\n",
            "39\n",
            "39\n",
            "39\n",
            "39\n",
            "39\n",
            "39\n",
            "39\n",
            "39\n",
            "39\n",
            "39\n",
            "39\n",
            "39\n",
            "39\n",
            "39\n",
            "39\n",
            "39\n",
            "39\n",
            "39\n",
            "39\n",
            "39\n",
            "39\n",
            "39\n",
            "39\n",
            "39\n",
            "39\n",
            "39\n",
            "39\n",
            "39\n",
            "39\n",
            "39\n",
            "39\n",
            "39\n",
            "39\n",
            "39\n",
            "39\n",
            "39\n",
            "39\n",
            "39\n",
            "39\n",
            "39\n",
            "39\n",
            "39\n",
            "39\n",
            "39\n",
            "39\n",
            "39\n",
            "39\n",
            "39\n",
            "39\n",
            "39\n",
            "39\n",
            "39\n",
            "39\n",
            "39\n",
            "39\n",
            "39\n",
            "39\n",
            "39\n",
            "39\n",
            "39\n",
            "39\n",
            "39\n",
            "39\n",
            "39\n",
            "39\n",
            "39\n",
            "39\n",
            "39\n",
            "39\n",
            "39\n",
            "39\n",
            "39\n",
            "39\n",
            "39\n",
            "39\n",
            "39\n",
            "39\n",
            "39\n",
            "39\n",
            "39\n",
            "39\n",
            "39\n",
            "39\n",
            "39\n",
            "39\n",
            "39\n",
            "39\n",
            "39\n",
            "39\n",
            "39\n",
            "39\n",
            "39\n",
            "39\n",
            "39\n",
            "39\n",
            "39\n",
            "39\n",
            "39\n",
            "39\n",
            "39\n",
            "39\n",
            "39\n",
            "39\n",
            "39\n",
            "39\n",
            "39\n",
            "39\n",
            "39\n",
            "39\n",
            "39\n",
            "39\n",
            "39\n",
            "39\n",
            "39\n",
            "39\n",
            "39\n",
            "39\n",
            "39\n",
            "39\n",
            "39\n",
            "39\n",
            "39\n",
            "39\n",
            "39\n",
            "39\n",
            "39\n",
            "39\n",
            "39\n",
            "39\n",
            "39\n",
            "39\n",
            "39\n",
            "39\n",
            "39\n",
            "39\n",
            "39\n",
            "39\n",
            "39\n",
            "39\n",
            "39\n",
            "39\n",
            "39\n",
            "39\n",
            "39\n",
            "39\n",
            "39\n",
            "39\n",
            "39\n",
            "39\n",
            "39\n",
            "39\n",
            "39\n",
            "39\n",
            "39\n",
            "39\n",
            "39\n",
            "39\n",
            "39\n",
            "39\n",
            "39\n",
            "39\n",
            "39\n",
            "39\n",
            "39\n",
            "39\n",
            "39\n",
            "39\n",
            "39\n",
            "39\n",
            "39\n",
            "39\n",
            "39\n",
            "39\n",
            "39\n",
            "39\n",
            "39\n",
            "39\n",
            "39\n",
            "39\n",
            "39\n",
            "39\n",
            "39\n",
            "39\n",
            "39\n",
            "39\n",
            "39\n",
            "39\n",
            "39\n",
            "39\n",
            "39\n",
            "39\n",
            "39\n",
            "39\n",
            "39\n",
            "39\n",
            "39\n",
            "39\n",
            "39\n",
            "39\n",
            "39\n",
            "39\n",
            "39\n",
            "39\n",
            "39\n",
            "39\n",
            "39\n",
            "39\n",
            "39\n",
            "39\n",
            "39\n",
            "39\n",
            "39\n",
            "39\n",
            "39\n",
            "39\n",
            "39\n",
            "39\n",
            "39\n",
            "39\n",
            "39\n",
            "39\n",
            "39\n",
            "39\n",
            "39\n",
            "39\n",
            "39\n",
            "39\n",
            "39\n",
            "39\n",
            "39\n",
            "39\n",
            "39\n",
            "39\n",
            "39\n",
            "39\n",
            "39\n",
            "39\n",
            "39\n",
            "39\n",
            "39\n",
            "39\n",
            "39\n",
            "39\n",
            "39\n",
            "39\n",
            "39\n",
            "39\n",
            "39\n",
            "39\n",
            "39\n",
            "39\n",
            "39\n",
            "39\n",
            "39\n",
            "39\n",
            "39\n",
            "39\n",
            "39\n",
            "39\n",
            "39\n",
            "39\n",
            "39\n",
            "39\n",
            "39\n",
            "39\n",
            "39\n",
            "39\n",
            "39\n",
            "39\n",
            "39\n",
            "39\n",
            "39\n",
            "39\n",
            "39\n",
            "39\n",
            "39\n",
            "39\n",
            "39\n",
            "39\n",
            "39\n",
            "39\n",
            "39\n",
            "39\n",
            "39\n",
            "39\n",
            "39\n",
            "39\n",
            "39\n",
            "39\n",
            "39\n",
            "39\n",
            "39\n",
            "39\n",
            "39\n",
            "39\n",
            "39\n",
            "39\n",
            "39\n",
            "39\n",
            "39\n",
            "39\n",
            "39\n",
            "39\n",
            "39\n",
            "39\n",
            "39\n",
            "39\n",
            "39\n",
            "39\n",
            "39\n",
            "39\n",
            "39\n",
            "39\n",
            "39\n",
            "39\n",
            "39\n",
            "39\n",
            "39\n",
            "39\n",
            "39\n",
            "39\n",
            "39\n",
            "39\n",
            "39\n",
            "39\n",
            "39\n",
            "39\n",
            "39\n",
            "39\n",
            "39\n",
            "39\n",
            "39\n",
            "39\n",
            "39\n",
            "39\n",
            "39\n",
            "39\n",
            "39\n",
            "39\n",
            "39\n",
            "39\n",
            "39\n",
            "39\n",
            "39\n",
            "39\n",
            "39\n",
            "39\n",
            "39\n",
            "39\n",
            "39\n",
            "39\n",
            "39\n",
            "39\n",
            "39\n",
            "39\n",
            "39\n",
            "39\n",
            "39\n",
            "39\n",
            "39\n",
            "39\n",
            "39\n",
            "39\n",
            "39\n",
            "39\n",
            "39\n",
            "39\n",
            "39\n",
            "39\n",
            "39\n",
            "39\n",
            "39\n",
            "39\n",
            "39\n",
            "39\n",
            "39\n",
            "39\n",
            "39\n",
            "39\n",
            "39\n",
            "39\n",
            "39\n",
            "39\n",
            "39\n",
            "39\n",
            "39\n",
            "39\n",
            "39\n",
            "39\n",
            "39\n",
            "39\n",
            "39\n",
            "39\n",
            "39\n",
            "39\n",
            "39\n",
            "39\n",
            "39\n",
            "39\n",
            "39\n",
            "39\n",
            "39\n",
            "39\n",
            "39\n",
            "39\n",
            "39\n",
            "39\n",
            "39\n",
            "39\n",
            "39\n",
            "39\n",
            "39\n",
            "39\n",
            "39\n",
            "39\n",
            "39\n",
            "39\n",
            "39\n",
            "39\n",
            "39\n",
            "39\n",
            "39\n"
          ]
        }
      ]
    },
    {
      "cell_type": "code",
      "source": [
        "padded_training_ips = torch.tensor(padded_training_ips, dtype=torch.long)"
      ],
      "metadata": {
        "id": "Ns30PoWadUxQ"
      },
      "execution_count": 31,
      "outputs": []
    },
    {
      "cell_type": "code",
      "source": [
        "padded_training_ips.shape"
      ],
      "metadata": {
        "colab": {
          "base_uri": "https://localhost:8080/"
        },
        "id": "yu0vTfyGdpXK",
        "outputId": "8b490fa7-e8af-4f60-dacf-b53677a3a3d3"
      },
      "execution_count": 32,
      "outputs": [
        {
          "output_type": "execute_result",
          "data": {
            "text/plain": [
              "torch.Size([653, 39])"
            ]
          },
          "metadata": {},
          "execution_count": 32
        }
      ]
    },
    {
      "cell_type": "code",
      "source": [
        "padded_training_ips"
      ],
      "metadata": {
        "colab": {
          "base_uri": "https://localhost:8080/"
        },
        "id": "-j_2XhffdrYQ",
        "outputId": "b1a2c83e-ad1f-4b81-8d3a-9302294a3a66"
      },
      "execution_count": 33,
      "outputs": [
        {
          "output_type": "execute_result",
          "data": {
            "text/plain": [
              "tensor([[  0,   0,   0,  ...,   0, 118, 118],\n",
              "        [  0,   0,   0,  ..., 118, 118,   2],\n",
              "        [  0,   0,   0,  ..., 118,   2,   3],\n",
              "        ...,\n",
              "        [  0,   0,   0,  ..., 196, 197,  27],\n",
              "        [  0,   0,   0,  ..., 197,  27,   1],\n",
              "        [  0,   0,   0,  ...,  27,   1,   1]])"
            ]
          },
          "metadata": {},
          "execution_count": 33
        }
      ]
    },
    {
      "cell_type": "code",
      "source": [
        "X = padded_training_ips[:,:-1]\n",
        "y = padded_training_ips[:,-1]"
      ],
      "metadata": {
        "id": "wC7THExYduPA"
      },
      "execution_count": 34,
      "outputs": []
    },
    {
      "cell_type": "code",
      "source": [
        "class CustomDataset(Dataset):\n",
        "  def __init__(self, X, y):\n",
        "    self.X = X\n",
        "    self.y = y\n",
        "\n",
        "  def __len__(self):\n",
        "    return self.X.shape[0]\n",
        "\n",
        "  def __getitem__(self, index):\n",
        "    return self.X[index], self.y[index]"
      ],
      "metadata": {
        "id": "cRA1muLFeD5s"
      },
      "execution_count": 35,
      "outputs": []
    },
    {
      "cell_type": "code",
      "source": [
        "dataset = CustomDataset(X,y)"
      ],
      "metadata": {
        "id": "PC2ocmo2ieHZ"
      },
      "execution_count": 36,
      "outputs": []
    },
    {
      "cell_type": "code",
      "source": [
        "len(dataset)"
      ],
      "metadata": {
        "colab": {
          "base_uri": "https://localhost:8080/"
        },
        "id": "p3zv3p5mihML",
        "outputId": "814af64f-4638-4136-f65c-620a2ba70181"
      },
      "execution_count": 37,
      "outputs": [
        {
          "output_type": "execute_result",
          "data": {
            "text/plain": [
              "653"
            ]
          },
          "metadata": {},
          "execution_count": 37
        }
      ]
    },
    {
      "cell_type": "code",
      "source": [
        "dataloader = DataLoader(dataset, batch_size=32, shuffle=True)"
      ],
      "metadata": {
        "id": "tYoloO8xiit9"
      },
      "execution_count": 38,
      "outputs": []
    },
    {
      "cell_type": "code",
      "source": [
        "class MyModel(nn.Module):\n",
        "  def __init__(self, vocab_size):\n",
        "    super().__init__()\n",
        "    self.embedding = nn.Embedding(vocab_size, 100)\n",
        "    self.lstm = nn.LSTM(100, 150, batch_first=True)\n",
        "    self.fc = nn.Linear(150, vocab_size)\n",
        "\n",
        "  def forward(self, X):\n",
        "    embedded = self.embedding(X)\n",
        "    intermediate_hidden, (final_hidden, final_cell) = self.lstm(embedded)\n",
        "    output = self.fc(final_hidden.squeeze(0))\n",
        "    return output\n"
      ],
      "metadata": {
        "id": "MJk393PRirOT"
      },
      "execution_count": 39,
      "outputs": []
    },
    {
      "cell_type": "code",
      "source": [
        "model = MyModel(len(vocab))"
      ],
      "metadata": {
        "id": "TfwG73ENjTfu"
      },
      "execution_count": 40,
      "outputs": []
    },
    {
      "cell_type": "code",
      "source": [
        "device = torch.device(\"cuda\" if torch.cuda.is_available() else \"cpu\")"
      ],
      "metadata": {
        "id": "vTAvzpyJjWHF"
      },
      "execution_count": 41,
      "outputs": []
    },
    {
      "cell_type": "code",
      "source": [
        "model.to(device)"
      ],
      "metadata": {
        "colab": {
          "base_uri": "https://localhost:8080/"
        },
        "id": "tL0ZIEkuja-5",
        "outputId": "ca7385f4-86c5-4f7c-fbce-a27a053d123e"
      },
      "execution_count": 42,
      "outputs": [
        {
          "output_type": "execute_result",
          "data": {
            "text/plain": [
              "MyModel(\n",
              "  (embedding): Embedding(260, 100)\n",
              "  (lstm): LSTM(100, 150, batch_first=True)\n",
              "  (fc): Linear(in_features=150, out_features=260, bias=True)\n",
              ")"
            ]
          },
          "metadata": {},
          "execution_count": 42
        }
      ]
    },
    {
      "cell_type": "code",
      "source": [
        "epochs = 50\n",
        "lr = 0.001\n",
        "criterion = nn.CrossEntropyLoss()\n",
        "optimizer = torch.optim.Adam(model.parameters(),lr=lr)"
      ],
      "metadata": {
        "id": "3huwLnuEjbfl"
      },
      "execution_count": 43,
      "outputs": []
    },
    {
      "cell_type": "code",
      "source": [
        "for epoch in range(epochs):\n",
        "  total_loss = 0\n",
        "  for batch_x, batch_y in dataloader:\n",
        "    batch_x, batch_y = batch_x.to(device), batch_y.to(device)\n",
        "    optimizer.zero_grad()\n",
        "    op = model(batch_x)\n",
        "    loss = criterion(op, batch_y)\n",
        "    loss.backward\n",
        "    optimizer.step()\n",
        "\n",
        "    total_loss = total_loss + loss.item()\n",
        "  print(f\"Epoch: {epoch + 1}, Loss: {total_loss:.4f}\")"
      ],
      "metadata": {
        "colab": {
          "base_uri": "https://localhost:8080/"
        },
        "id": "fYKWXpiijlfN",
        "outputId": "0d98a18f-852b-49c6-c51f-8f5fa3c5455f"
      },
      "execution_count": 44,
      "outputs": [
        {
          "output_type": "stream",
          "name": "stdout",
          "text": [
            "Epoch: 1, Loss: 116.8149\n",
            "Epoch: 2, Loss: 116.8180\n",
            "Epoch: 3, Loss: 116.8327\n",
            "Epoch: 4, Loss: 116.8081\n",
            "Epoch: 5, Loss: 116.8309\n",
            "Epoch: 6, Loss: 116.8304\n",
            "Epoch: 7, Loss: 116.8205\n",
            "Epoch: 8, Loss: 116.8205\n",
            "Epoch: 9, Loss: 116.8133\n",
            "Epoch: 10, Loss: 116.7873\n",
            "Epoch: 11, Loss: 116.7908\n",
            "Epoch: 12, Loss: 116.8251\n",
            "Epoch: 13, Loss: 116.7967\n",
            "Epoch: 14, Loss: 116.8142\n",
            "Epoch: 15, Loss: 116.8222\n",
            "Epoch: 16, Loss: 116.8009\n",
            "Epoch: 17, Loss: 116.8087\n",
            "Epoch: 18, Loss: 116.8229\n",
            "Epoch: 19, Loss: 116.8188\n",
            "Epoch: 20, Loss: 116.8501\n",
            "Epoch: 21, Loss: 116.8106\n",
            "Epoch: 22, Loss: 116.8184\n",
            "Epoch: 23, Loss: 116.8219\n",
            "Epoch: 24, Loss: 116.8490\n",
            "Epoch: 25, Loss: 116.8169\n",
            "Epoch: 26, Loss: 116.8159\n",
            "Epoch: 27, Loss: 116.8132\n",
            "Epoch: 28, Loss: 116.7885\n",
            "Epoch: 29, Loss: 116.8204\n",
            "Epoch: 30, Loss: 116.8212\n",
            "Epoch: 31, Loss: 116.8075\n",
            "Epoch: 32, Loss: 116.8114\n",
            "Epoch: 33, Loss: 116.8423\n",
            "Epoch: 34, Loss: 116.8109\n",
            "Epoch: 35, Loss: 116.8212\n",
            "Epoch: 36, Loss: 116.8215\n",
            "Epoch: 37, Loss: 116.8500\n",
            "Epoch: 38, Loss: 116.8225\n",
            "Epoch: 39, Loss: 116.8208\n",
            "Epoch: 40, Loss: 116.8147\n",
            "Epoch: 41, Loss: 116.8031\n",
            "Epoch: 42, Loss: 116.8050\n",
            "Epoch: 43, Loss: 116.8047\n",
            "Epoch: 44, Loss: 116.8006\n",
            "Epoch: 45, Loss: 116.8147\n",
            "Epoch: 46, Loss: 116.8087\n",
            "Epoch: 47, Loss: 116.8213\n",
            "Epoch: 48, Loss: 116.8211\n",
            "Epoch: 49, Loss: 116.8248\n",
            "Epoch: 50, Loss: 116.8396\n"
          ]
        }
      ]
    },
    {
      "cell_type": "code",
      "source": [
        "def prediction(model, vocab, text):\n",
        "\n",
        "  # tokenize\n",
        "  tokenized_text = word_tokenize(text.lower())\n",
        "\n",
        "  # text -> numerical indices\n",
        "  numerical_text = text_to_indices(tokenized_text, vocab)\n",
        "\n",
        "  # padding\n",
        "  padded_text = torch.tensor([0] * (39 - len(numerical_text)) + numerical_text, dtype=torch.long).unsqueeze(0)\n",
        "\n",
        "  # send to model\n",
        "  padded_text = padded_text.to(device) # Move padded_text to the correct device\n",
        "  output = model(padded_text)\n",
        "\n",
        "  # predicted index\n",
        "  value, index = torch.max(output, dim=1)\n",
        "\n",
        "  # merge with text\n",
        "  return text + \" \" + list(vocab.keys())[index]\n"
      ],
      "metadata": {
        "id": "iZwQatFxkECc"
      },
      "execution_count": 48,
      "outputs": []
    },
    {
      "cell_type": "code",
      "source": [
        "prediction(model, vocab, \"What is the AI\")"
      ],
      "metadata": {
        "colab": {
          "base_uri": "https://localhost:8080/",
          "height": 35
        },
        "id": "MqejcW86kL8r",
        "outputId": "9fc170a1-3056-439d-ee31-466eea132e44"
      },
      "execution_count": 50,
      "outputs": [
        {
          "output_type": "execute_result",
          "data": {
            "text/plain": [
              "'What is the AI within'"
            ],
            "application/vnd.google.colaboratory.intrinsic+json": {
              "type": "string"
            }
          },
          "metadata": {},
          "execution_count": 50
        }
      ]
    },
    {
      "cell_type": "code",
      "source": [
        "import time\n",
        "\n",
        "num_tokens = 10\n",
        "input_text = \"What is the AI\"\n",
        "\n",
        "for i in range(num_tokens):\n",
        "  output_text = prediction(model, vocab, input_text)\n",
        "  print(output_text)\n",
        "  input_text = output_text\n",
        "  time.sleep(0.5)\n"
      ],
      "metadata": {
        "colab": {
          "base_uri": "https://localhost:8080/"
        },
        "id": "335C_Y2_kS28",
        "outputId": "a40c4974-398c-4f16-d3a7-65c4ce4c240b"
      },
      "execution_count": 51,
      "outputs": [
        {
          "output_type": "stream",
          "name": "stdout",
          "text": [
            "What is the AI within\n",
            "What is the AI within online\n",
            "What is the AI within online due\n",
            "What is the AI within online due due\n",
            "What is the AI within online due due following\n",
            "What is the AI within online due due following receive\n",
            "What is the AI within online due due following receive &\n",
            "What is the AI within online due due following receive & engineering\n",
            "What is the AI within online due due following receive & engineering applications\n",
            "What is the AI within online due due following receive & engineering applications issues\n"
          ]
        }
      ]
    },
    {
      "cell_type": "code",
      "source": [],
      "metadata": {
        "id": "XE2RsdMjkz-J"
      },
      "execution_count": null,
      "outputs": []
    }
  ]
}